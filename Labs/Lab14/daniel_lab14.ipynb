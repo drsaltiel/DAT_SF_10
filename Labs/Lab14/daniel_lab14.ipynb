{
 "metadata": {
  "name": "",
  "signature": "sha256:0b3bad691f91b4269683b476dfe73c333add158488a3147f42f01d01a34f4e80"
 },
 "nbformat": 3,
 "nbformat_minor": 0,
 "worksheets": [
  {
   "cells": [
    {
     "cell_type": "code",
     "collapsed": false,
     "input": [
      "import pandas as pd\n",
      "import numpy as np\n",
      "import datetime as dt"
     ],
     "language": "python",
     "metadata": {},
     "outputs": [],
     "prompt_number": 2
    },
    {
     "cell_type": "code",
     "collapsed": false,
     "input": [
      "pd.set_option('display.max_rows',100)\n",
      "pd.set_option('display.max_columns',60)"
     ],
     "language": "python",
     "metadata": {},
     "outputs": [],
     "prompt_number": 3
    },
    {
     "cell_type": "code",
     "collapsed": false,
     "input": [
      "data = pd.read_csv('credit_analysis.csv', header=None)"
     ],
     "language": "python",
     "metadata": {},
     "outputs": [],
     "prompt_number": 4
    },
    {
     "cell_type": "code",
     "collapsed": false,
     "input": [
      "original_length = len(data)"
     ],
     "language": "python",
     "metadata": {},
     "outputs": [],
     "prompt_number": 5
    },
    {
     "cell_type": "code",
     "collapsed": false,
     "input": [
      "data.head()"
     ],
     "language": "python",
     "metadata": {},
     "outputs": [
      {
       "html": [
        "<div style=\"max-height:1000px;max-width:1500px;overflow:auto;\">\n",
        "<table border=\"1\" class=\"dataframe\">\n",
        "  <thead>\n",
        "    <tr style=\"text-align: right;\">\n",
        "      <th></th>\n",
        "      <th>0</th>\n",
        "      <th>1</th>\n",
        "      <th>2</th>\n",
        "      <th>3</th>\n",
        "      <th>4</th>\n",
        "      <th>5</th>\n",
        "      <th>6</th>\n",
        "      <th>7</th>\n",
        "      <th>8</th>\n",
        "      <th>9</th>\n",
        "      <th>10</th>\n",
        "      <th>11</th>\n",
        "      <th>12</th>\n",
        "      <th>13</th>\n",
        "      <th>14</th>\n",
        "      <th>15</th>\n",
        "      <th>16</th>\n",
        "      <th>17</th>\n",
        "    </tr>\n",
        "  </thead>\n",
        "  <tbody>\n",
        "    <tr>\n",
        "      <th>0</th>\n",
        "      <td> 0</td>\n",
        "      <td> b</td>\n",
        "      <td> 32.33</td>\n",
        "      <td> 7.5</td>\n",
        "      <td> u</td>\n",
        "      <td> g</td>\n",
        "      <td>  e</td>\n",
        "      <td> bb</td>\n",
        "      <td>  1.585</td>\n",
        "      <td> t</td>\n",
        "      <td> f</td>\n",
        "      <td> 0</td>\n",
        "      <td> t</td>\n",
        "      <td> s</td>\n",
        "      <td> 420</td>\n",
        "      <td> 0</td>\n",
        "      <td> 2009-09-14</td>\n",
        "      <td> -</td>\n",
        "    </tr>\n",
        "    <tr>\n",
        "      <th>1</th>\n",
        "      <td> 1</td>\n",
        "      <td> b</td>\n",
        "      <td> 34.83</td>\n",
        "      <td> 4.0</td>\n",
        "      <td> u</td>\n",
        "      <td> g</td>\n",
        "      <td>  d</td>\n",
        "      <td> bb</td>\n",
        "      <td> 12.500</td>\n",
        "      <td> t</td>\n",
        "      <td> f</td>\n",
        "      <td> 0</td>\n",
        "      <td> t</td>\n",
        "      <td> g</td>\n",
        "      <td>   ?</td>\n",
        "      <td> 0</td>\n",
        "      <td> 2009-10-19</td>\n",
        "      <td> -</td>\n",
        "    </tr>\n",
        "    <tr>\n",
        "      <th>2</th>\n",
        "      <td> 2</td>\n",
        "      <td> a</td>\n",
        "      <td> 38.58</td>\n",
        "      <td> 5.0</td>\n",
        "      <td> u</td>\n",
        "      <td> g</td>\n",
        "      <td> cc</td>\n",
        "      <td>  v</td>\n",
        "      <td> 13.500</td>\n",
        "      <td> t</td>\n",
        "      <td> f</td>\n",
        "      <td> 0</td>\n",
        "      <td> t</td>\n",
        "      <td> g</td>\n",
        "      <td> 980</td>\n",
        "      <td> 0</td>\n",
        "      <td> 2010-05-05</td>\n",
        "      <td> -</td>\n",
        "    </tr>\n",
        "    <tr>\n",
        "      <th>3</th>\n",
        "      <td> 3</td>\n",
        "      <td> b</td>\n",
        "      <td> 44.25</td>\n",
        "      <td> 0.5</td>\n",
        "      <td> u</td>\n",
        "      <td> g</td>\n",
        "      <td>  m</td>\n",
        "      <td>  v</td>\n",
        "      <td> 10.750</td>\n",
        "      <td> t</td>\n",
        "      <td> f</td>\n",
        "      <td> 0</td>\n",
        "      <td> f</td>\n",
        "      <td> s</td>\n",
        "      <td> 400</td>\n",
        "      <td> 0</td>\n",
        "      <td> 2009-09-29</td>\n",
        "      <td> -</td>\n",
        "    </tr>\n",
        "    <tr>\n",
        "      <th>4</th>\n",
        "      <td> 4</td>\n",
        "      <td> b</td>\n",
        "      <td> 44.83</td>\n",
        "      <td> 7.0</td>\n",
        "      <td> y</td>\n",
        "      <td> p</td>\n",
        "      <td>  c</td>\n",
        "      <td>  v</td>\n",
        "      <td>  1.625</td>\n",
        "      <td> f</td>\n",
        "      <td> f</td>\n",
        "      <td> 0</td>\n",
        "      <td> f</td>\n",
        "      <td> g</td>\n",
        "      <td> 160</td>\n",
        "      <td> 2</td>\n",
        "      <td> 2010-06-15</td>\n",
        "      <td> -</td>\n",
        "    </tr>\n",
        "  </tbody>\n",
        "</table>\n",
        "</div>"
       ],
       "metadata": {},
       "output_type": "pyout",
       "prompt_number": 6,
       "text": [
        "   0  1      2    3  4  5   6   7       8  9  10  11 12 13   14  15  \\\n",
        "0   0  b  32.33  7.5  u  g   e  bb   1.585  t  f   0  t  s  420   0   \n",
        "1   1  b  34.83  4.0  u  g   d  bb  12.500  t  f   0  t  g    ?   0   \n",
        "2   2  a  38.58  5.0  u  g  cc   v  13.500  t  f   0  t  g  980   0   \n",
        "3   3  b  44.25  0.5  u  g   m   v  10.750  t  f   0  f  s  400   0   \n",
        "4   4  b  44.83  7.0  y  p   c   v   1.625  f  f   0  f  g  160   2   \n",
        "\n",
        "           16 17  \n",
        "0  2009-09-14  -  \n",
        "1  2009-10-19  -  \n",
        "2  2010-05-05  -  \n",
        "3  2009-09-29  -  \n",
        "4  2010-06-15  -  "
       ]
      }
     ],
     "prompt_number": 6
    },
    {
     "cell_type": "markdown",
     "metadata": {},
     "source": [
      "column 17 is a +  or - as to whether someone was approved for credit"
     ]
    },
    {
     "cell_type": "code",
     "collapsed": false,
     "input": [
      "data.info()"
     ],
     "language": "python",
     "metadata": {},
     "outputs": [
      {
       "output_type": "stream",
       "stream": "stdout",
       "text": [
        "<class 'pandas.core.frame.DataFrame'>\n",
        "Int64Index: 690 entries, 0 to 689\n",
        "Data columns (total 18 columns):\n",
        "0     690 non-null int64\n",
        "1     690 non-null object\n",
        "2     690 non-null object\n",
        "3     690 non-null float64\n",
        "4     690 non-null object\n",
        "5     690 non-null object\n",
        "6     690 non-null object\n",
        "7     690 non-null object\n",
        "8     690 non-null float64\n",
        "9     690 non-null object\n",
        "10    690 non-null object\n",
        "11    690 non-null int64\n",
        "12    690 non-null object\n",
        "13    690 non-null object\n",
        "14    690 non-null object\n",
        "15    690 non-null int64\n",
        "16    690 non-null object\n",
        "17    690 non-null object\n",
        "dtypes: float64(2), int64(3), object(13)"
       ]
      }
     ],
     "prompt_number": 7
    },
    {
     "cell_type": "code",
     "collapsed": false,
     "input": [
      "data.replace({17 : { '-' : 0, '+' : 1}},inplace=True)"
     ],
     "language": "python",
     "metadata": {},
     "outputs": [],
     "prompt_number": 8
    },
    {
     "cell_type": "markdown",
     "metadata": {},
     "source": [
      "date is date a customer joined (we just know this)"
     ]
    },
    {
     "cell_type": "code",
     "collapsed": false,
     "input": [
      "data[16] = data[16].apply(lambda x: (dt.datetime.now() - dt.datetime.strptime(x, '%Y-%m-%d')).days)"
     ],
     "language": "python",
     "metadata": {},
     "outputs": [],
     "prompt_number": 9
    },
    {
     "cell_type": "code",
     "collapsed": false,
     "input": [
      "# categorical_features = [1]\n",
      "categorical = [1,4,5,6,7,9,10,12,13]\n",
      "for n in categorical:\n",
      "    temp_df = pd.get_dummies(data[n])\n",
      "    data.drop(n,axis=1,inplace=True)\n",
      "    data = pd.merge(data, temp_df,left_index=True,right_index=True)"
     ],
     "language": "python",
     "metadata": {},
     "outputs": [],
     "prompt_number": 10
    },
    {
     "cell_type": "code",
     "collapsed": false,
     "input": [
      "data.head()"
     ],
     "language": "python",
     "metadata": {},
     "outputs": [
      {
       "html": [
        "<div style=\"max-height:1000px;max-width:1500px;overflow:auto;\">\n",
        "<table border=\"1\" class=\"dataframe\">\n",
        "  <thead>\n",
        "    <tr style=\"text-align: right;\">\n",
        "      <th></th>\n",
        "      <th>0</th>\n",
        "      <th>2</th>\n",
        "      <th>3</th>\n",
        "      <th>8</th>\n",
        "      <th>11</th>\n",
        "      <th>14</th>\n",
        "      <th>15</th>\n",
        "      <th>16</th>\n",
        "      <th>17</th>\n",
        "      <th>?_x</th>\n",
        "      <th>a</th>\n",
        "      <th>b</th>\n",
        "      <th>?_y</th>\n",
        "      <th>l</th>\n",
        "      <th>u</th>\n",
        "      <th>y</th>\n",
        "      <th>?_x</th>\n",
        "      <th>g_x</th>\n",
        "      <th>gg</th>\n",
        "      <th>p_x</th>\n",
        "      <th>?_y</th>\n",
        "      <th>aa</th>\n",
        "      <th>c</th>\n",
        "      <th>cc</th>\n",
        "      <th>d</th>\n",
        "      <th>e</th>\n",
        "      <th>ff_x</th>\n",
        "      <th>i</th>\n",
        "      <th>j_x</th>\n",
        "      <th>k</th>\n",
        "      <th>m</th>\n",
        "      <th>q</th>\n",
        "      <th>r</th>\n",
        "      <th>w</th>\n",
        "      <th>x_x</th>\n",
        "      <th>?</th>\n",
        "      <th>bb</th>\n",
        "      <th>dd</th>\n",
        "      <th>ff_y</th>\n",
        "      <th>h</th>\n",
        "      <th>j_y</th>\n",
        "      <th>n</th>\n",
        "      <th>o</th>\n",
        "      <th>v</th>\n",
        "      <th>z_x</th>\n",
        "      <th>f_x</th>\n",
        "      <th>t_x</th>\n",
        "      <th>f_y</th>\n",
        "      <th>t_y_x</th>\n",
        "      <th>f</th>\n",
        "      <th>t_x</th>\n",
        "      <th>g_y</th>\n",
        "      <th>p_y</th>\n",
        "      <th>s</th>\n",
        "    </tr>\n",
        "  </thead>\n",
        "  <tbody>\n",
        "    <tr>\n",
        "      <th>0</th>\n",
        "      <td> 0</td>\n",
        "      <td> 32.33</td>\n",
        "      <td> 7.5</td>\n",
        "      <td>  1.585</td>\n",
        "      <td> 0</td>\n",
        "      <td> 420</td>\n",
        "      <td> 0</td>\n",
        "      <td> 1890</td>\n",
        "      <td> 0</td>\n",
        "      <td> 0</td>\n",
        "      <td> 0</td>\n",
        "      <td> 1</td>\n",
        "      <td> 0</td>\n",
        "      <td> 0</td>\n",
        "      <td> 1</td>\n",
        "      <td> 0</td>\n",
        "      <td> 0</td>\n",
        "      <td> 1</td>\n",
        "      <td> 0</td>\n",
        "      <td> 0</td>\n",
        "      <td> 0</td>\n",
        "      <td> 0</td>\n",
        "      <td> 0</td>\n",
        "      <td> 0</td>\n",
        "      <td> 0</td>\n",
        "      <td> 1</td>\n",
        "      <td> 0</td>\n",
        "      <td> 0</td>\n",
        "      <td> 0</td>\n",
        "      <td> 0</td>\n",
        "      <td> 0</td>\n",
        "      <td> 0</td>\n",
        "      <td> 0</td>\n",
        "      <td> 0</td>\n",
        "      <td> 0</td>\n",
        "      <td> 0</td>\n",
        "      <td> 1</td>\n",
        "      <td> 0</td>\n",
        "      <td> 0</td>\n",
        "      <td> 0</td>\n",
        "      <td> 0</td>\n",
        "      <td> 0</td>\n",
        "      <td> 0</td>\n",
        "      <td> 0</td>\n",
        "      <td> 0</td>\n",
        "      <td> 0</td>\n",
        "      <td> 1</td>\n",
        "      <td> 1</td>\n",
        "      <td> 0</td>\n",
        "      <td> 0</td>\n",
        "      <td> 1</td>\n",
        "      <td> 0</td>\n",
        "      <td> 0</td>\n",
        "      <td> 1</td>\n",
        "    </tr>\n",
        "    <tr>\n",
        "      <th>1</th>\n",
        "      <td> 1</td>\n",
        "      <td> 34.83</td>\n",
        "      <td> 4.0</td>\n",
        "      <td> 12.500</td>\n",
        "      <td> 0</td>\n",
        "      <td>   ?</td>\n",
        "      <td> 0</td>\n",
        "      <td> 1855</td>\n",
        "      <td> 0</td>\n",
        "      <td> 0</td>\n",
        "      <td> 0</td>\n",
        "      <td> 1</td>\n",
        "      <td> 0</td>\n",
        "      <td> 0</td>\n",
        "      <td> 1</td>\n",
        "      <td> 0</td>\n",
        "      <td> 0</td>\n",
        "      <td> 1</td>\n",
        "      <td> 0</td>\n",
        "      <td> 0</td>\n",
        "      <td> 0</td>\n",
        "      <td> 0</td>\n",
        "      <td> 0</td>\n",
        "      <td> 0</td>\n",
        "      <td> 1</td>\n",
        "      <td> 0</td>\n",
        "      <td> 0</td>\n",
        "      <td> 0</td>\n",
        "      <td> 0</td>\n",
        "      <td> 0</td>\n",
        "      <td> 0</td>\n",
        "      <td> 0</td>\n",
        "      <td> 0</td>\n",
        "      <td> 0</td>\n",
        "      <td> 0</td>\n",
        "      <td> 0</td>\n",
        "      <td> 1</td>\n",
        "      <td> 0</td>\n",
        "      <td> 0</td>\n",
        "      <td> 0</td>\n",
        "      <td> 0</td>\n",
        "      <td> 0</td>\n",
        "      <td> 0</td>\n",
        "      <td> 0</td>\n",
        "      <td> 0</td>\n",
        "      <td> 0</td>\n",
        "      <td> 1</td>\n",
        "      <td> 1</td>\n",
        "      <td> 0</td>\n",
        "      <td> 0</td>\n",
        "      <td> 1</td>\n",
        "      <td> 1</td>\n",
        "      <td> 0</td>\n",
        "      <td> 0</td>\n",
        "    </tr>\n",
        "    <tr>\n",
        "      <th>2</th>\n",
        "      <td> 2</td>\n",
        "      <td> 38.58</td>\n",
        "      <td> 5.0</td>\n",
        "      <td> 13.500</td>\n",
        "      <td> 0</td>\n",
        "      <td> 980</td>\n",
        "      <td> 0</td>\n",
        "      <td> 1657</td>\n",
        "      <td> 0</td>\n",
        "      <td> 0</td>\n",
        "      <td> 1</td>\n",
        "      <td> 0</td>\n",
        "      <td> 0</td>\n",
        "      <td> 0</td>\n",
        "      <td> 1</td>\n",
        "      <td> 0</td>\n",
        "      <td> 0</td>\n",
        "      <td> 1</td>\n",
        "      <td> 0</td>\n",
        "      <td> 0</td>\n",
        "      <td> 0</td>\n",
        "      <td> 0</td>\n",
        "      <td> 0</td>\n",
        "      <td> 1</td>\n",
        "      <td> 0</td>\n",
        "      <td> 0</td>\n",
        "      <td> 0</td>\n",
        "      <td> 0</td>\n",
        "      <td> 0</td>\n",
        "      <td> 0</td>\n",
        "      <td> 0</td>\n",
        "      <td> 0</td>\n",
        "      <td> 0</td>\n",
        "      <td> 0</td>\n",
        "      <td> 0</td>\n",
        "      <td> 0</td>\n",
        "      <td> 0</td>\n",
        "      <td> 0</td>\n",
        "      <td> 0</td>\n",
        "      <td> 0</td>\n",
        "      <td> 0</td>\n",
        "      <td> 0</td>\n",
        "      <td> 0</td>\n",
        "      <td> 1</td>\n",
        "      <td> 0</td>\n",
        "      <td> 0</td>\n",
        "      <td> 1</td>\n",
        "      <td> 1</td>\n",
        "      <td> 0</td>\n",
        "      <td> 0</td>\n",
        "      <td> 1</td>\n",
        "      <td> 1</td>\n",
        "      <td> 0</td>\n",
        "      <td> 0</td>\n",
        "    </tr>\n",
        "    <tr>\n",
        "      <th>3</th>\n",
        "      <td> 3</td>\n",
        "      <td> 44.25</td>\n",
        "      <td> 0.5</td>\n",
        "      <td> 10.750</td>\n",
        "      <td> 0</td>\n",
        "      <td> 400</td>\n",
        "      <td> 0</td>\n",
        "      <td> 1875</td>\n",
        "      <td> 0</td>\n",
        "      <td> 0</td>\n",
        "      <td> 0</td>\n",
        "      <td> 1</td>\n",
        "      <td> 0</td>\n",
        "      <td> 0</td>\n",
        "      <td> 1</td>\n",
        "      <td> 0</td>\n",
        "      <td> 0</td>\n",
        "      <td> 1</td>\n",
        "      <td> 0</td>\n",
        "      <td> 0</td>\n",
        "      <td> 0</td>\n",
        "      <td> 0</td>\n",
        "      <td> 0</td>\n",
        "      <td> 0</td>\n",
        "      <td> 0</td>\n",
        "      <td> 0</td>\n",
        "      <td> 0</td>\n",
        "      <td> 0</td>\n",
        "      <td> 0</td>\n",
        "      <td> 0</td>\n",
        "      <td> 1</td>\n",
        "      <td> 0</td>\n",
        "      <td> 0</td>\n",
        "      <td> 0</td>\n",
        "      <td> 0</td>\n",
        "      <td> 0</td>\n",
        "      <td> 0</td>\n",
        "      <td> 0</td>\n",
        "      <td> 0</td>\n",
        "      <td> 0</td>\n",
        "      <td> 0</td>\n",
        "      <td> 0</td>\n",
        "      <td> 0</td>\n",
        "      <td> 1</td>\n",
        "      <td> 0</td>\n",
        "      <td> 0</td>\n",
        "      <td> 1</td>\n",
        "      <td> 1</td>\n",
        "      <td> 0</td>\n",
        "      <td> 1</td>\n",
        "      <td> 0</td>\n",
        "      <td> 0</td>\n",
        "      <td> 0</td>\n",
        "      <td> 1</td>\n",
        "    </tr>\n",
        "    <tr>\n",
        "      <th>4</th>\n",
        "      <td> 4</td>\n",
        "      <td> 44.83</td>\n",
        "      <td> 7.0</td>\n",
        "      <td>  1.625</td>\n",
        "      <td> 0</td>\n",
        "      <td> 160</td>\n",
        "      <td> 2</td>\n",
        "      <td> 1616</td>\n",
        "      <td> 0</td>\n",
        "      <td> 0</td>\n",
        "      <td> 0</td>\n",
        "      <td> 1</td>\n",
        "      <td> 0</td>\n",
        "      <td> 0</td>\n",
        "      <td> 0</td>\n",
        "      <td> 1</td>\n",
        "      <td> 0</td>\n",
        "      <td> 0</td>\n",
        "      <td> 0</td>\n",
        "      <td> 1</td>\n",
        "      <td> 0</td>\n",
        "      <td> 0</td>\n",
        "      <td> 1</td>\n",
        "      <td> 0</td>\n",
        "      <td> 0</td>\n",
        "      <td> 0</td>\n",
        "      <td> 0</td>\n",
        "      <td> 0</td>\n",
        "      <td> 0</td>\n",
        "      <td> 0</td>\n",
        "      <td> 0</td>\n",
        "      <td> 0</td>\n",
        "      <td> 0</td>\n",
        "      <td> 0</td>\n",
        "      <td> 0</td>\n",
        "      <td> 0</td>\n",
        "      <td> 0</td>\n",
        "      <td> 0</td>\n",
        "      <td> 0</td>\n",
        "      <td> 0</td>\n",
        "      <td> 0</td>\n",
        "      <td> 0</td>\n",
        "      <td> 0</td>\n",
        "      <td> 1</td>\n",
        "      <td> 0</td>\n",
        "      <td> 1</td>\n",
        "      <td> 0</td>\n",
        "      <td> 1</td>\n",
        "      <td> 0</td>\n",
        "      <td> 1</td>\n",
        "      <td> 0</td>\n",
        "      <td> 1</td>\n",
        "      <td> 0</td>\n",
        "      <td> 0</td>\n",
        "    </tr>\n",
        "  </tbody>\n",
        "</table>\n",
        "</div>"
       ],
       "metadata": {},
       "output_type": "pyout",
       "prompt_number": 11,
       "text": [
        "   0      2    3       8  11   14  15    16  17  ?_x  a  b  ?_y  l  u  y  ?_x  \\\n",
        "0  0  32.33  7.5   1.585   0  420   0  1890   0    0  0  1    0  0  1  0    0   \n",
        "1  1  34.83  4.0  12.500   0    ?   0  1855   0    0  0  1    0  0  1  0    0   \n",
        "2  2  38.58  5.0  13.500   0  980   0  1657   0    0  1  0    0  0  1  0    0   \n",
        "3  3  44.25  0.5  10.750   0  400   0  1875   0    0  0  1    0  0  1  0    0   \n",
        "4  4  44.83  7.0   1.625   0  160   2  1616   0    0  0  1    0  0  0  1    0   \n",
        "\n",
        "   g_x  gg  p_x  ?_y  aa  c  cc  d  e  ff_x  i  j_x  k  m  q  r  w  x_x  ?  \\\n",
        "0    1   0    0    0   0  0   0  0  1     0  0    0  0  0  0  0  0    0  0   \n",
        "1    1   0    0    0   0  0   0  1  0     0  0    0  0  0  0  0  0    0  0   \n",
        "2    1   0    0    0   0  0   1  0  0     0  0    0  0  0  0  0  0    0  0   \n",
        "3    1   0    0    0   0  0   0  0  0     0  0    0  0  1  0  0  0    0  0   \n",
        "4    0   0    1    0   0  1   0  0  0     0  0    0  0  0  0  0  0    0  0   \n",
        "\n",
        "   bb  dd  ff_y  h  j_y  n  o  v  z_x  f_x  t_x  f_y  t_y_x  f  t_x  g_y  p_y  \\\n",
        "0   1   0     0  0    0  0  0  0    0    0    1    1      0  0    1    0    0   \n",
        "1   1   0     0  0    0  0  0  0    0    0    1    1      0  0    1    1    0   \n",
        "2   0   0     0  0    0  0  0  1    0    0    1    1      0  0    1    1    0   \n",
        "3   0   0     0  0    0  0  0  1    0    0    1    1      0  1    0    0    0   \n",
        "4   0   0     0  0    0  0  0  1    0    1    0    1      0  1    0    1    0   \n",
        "\n",
        "   s  \n",
        "0  1  \n",
        "1  0  \n",
        "2  0  \n",
        "3  1  \n",
        "4  0  "
       ]
      }
     ],
     "prompt_number": 11
    },
    {
     "cell_type": "code",
     "collapsed": false,
     "input": [
      "numeric_features = [2,14]\n",
      "for n in numeric_features:\n",
      "    data[n] = data[n].convert_objects(convert_numeric=True,convert_dates=True)"
     ],
     "language": "python",
     "metadata": {},
     "outputs": [],
     "prompt_number": 12
    },
    {
     "cell_type": "code",
     "collapsed": false,
     "input": [
      "data.dropna(inplace=True)"
     ],
     "language": "python",
     "metadata": {},
     "outputs": [],
     "prompt_number": 13
    },
    {
     "cell_type": "code",
     "collapsed": false,
     "input": [
      "original_length - len(data)"
     ],
     "language": "python",
     "metadata": {},
     "outputs": [
      {
       "metadata": {},
       "output_type": "pyout",
       "prompt_number": 14,
       "text": [
        "25"
       ]
      }
     ],
     "prompt_number": 14
    },
    {
     "cell_type": "code",
     "collapsed": false,
     "input": [
      "from sklearn.cross_validation import KFold\n",
      "\n",
      "def cross_validate(X, y, classifier, k_fold) :\n",
      "\n",
      "    # derive a set of (random) training and testing indices\n",
      "    k_fold_indices = KFold(len(X), n_folds=k_fold,\n",
      "                           shuffle=True, random_state=0)\n",
      "\n",
      "    k_score_total = 0\n",
      "    # for each training and testing slices run the classifier, and score the results\n",
      "    for train_slice, test_slice in k_fold_indices :\n",
      "\n",
      "        model = classifier(X[ train_slice  ],\n",
      "                         y[ train_slice  ])\n",
      "\n",
      "        k_score = model.score(X[ test_slice ],\n",
      "                              y[ test_slice ])\n",
      "\n",
      "        k_score_total += k_score\n",
      "\n",
      "    # return the average accuracy\n",
      "    return k_score_total/k_fold"
     ],
     "language": "python",
     "metadata": {},
     "outputs": [],
     "prompt_number": 15
    },
    {
     "cell_type": "markdown",
     "metadata": {},
     "source": [
      "####Logistic Regression"
     ]
    },
    {
     "cell_type": "code",
     "collapsed": false,
     "input": [
      "X = data.drop(17, axis=1).values\n",
      "y = data[17].values"
     ],
     "language": "python",
     "metadata": {},
     "outputs": [],
     "prompt_number": 16
    },
    {
     "cell_type": "code",
     "collapsed": false,
     "input": [
      "from sklearn.linear_model import LogisticRegression\n",
      "model_lr = LogisticRegression().fit"
     ],
     "language": "python",
     "metadata": {},
     "outputs": [],
     "prompt_number": 16
    },
    {
     "cell_type": "code",
     "collapsed": false,
     "input": [
      "cross_validate(X,y,model_lr,10)"
     ],
     "language": "python",
     "metadata": {},
     "outputs": [
      {
       "metadata": {},
       "output_type": "pyout",
       "prompt_number": 17,
       "text": [
        "0.98048394391677962"
       ]
      }
     ],
     "prompt_number": 17
    },
    {
     "cell_type": "markdown",
     "metadata": {},
     "source": [
      "####Random Forest"
     ]
    },
    {
     "cell_type": "code",
     "collapsed": false,
     "input": [
      "from sklearn.ensemble import RandomForestClassifier\n",
      "\n",
      "model_rf = RandomForestClassifier(max_depth=5,random_state=0).fit\n",
      "cross_validate(X,y, model_rf, 10)"
     ],
     "language": "python",
     "metadata": {},
     "outputs": [
      {
       "metadata": {},
       "output_type": "pyout",
       "prompt_number": 18,
       "text": [
        "0.98799185888738139"
       ]
      }
     ],
     "prompt_number": 18
    },
    {
     "cell_type": "markdown",
     "metadata": {},
     "source": [
      "####SVM"
     ]
    },
    {
     "cell_type": "code",
     "collapsed": false,
     "input": [
      "from sklearn import svm\n",
      "model_svm = svm.SVC()"
     ],
     "language": "python",
     "metadata": {},
     "outputs": [],
     "prompt_number": 19
    },
    {
     "cell_type": "code",
     "collapsed": false,
     "input": [
      "model_svm.fit(X,y)"
     ],
     "language": "python",
     "metadata": {},
     "outputs": [
      {
       "metadata": {},
       "output_type": "pyout",
       "prompt_number": 20,
       "text": [
        "SVC(C=1.0, cache_size=200, class_weight=None, coef0=0.0, degree=3, gamma=0.0,\n",
        "  kernel='rbf', max_iter=-1, probability=False, random_state=None,\n",
        "  shrinking=True, tol=0.001, verbose=False)"
       ]
      }
     ],
     "prompt_number": 20
    },
    {
     "cell_type": "code",
     "collapsed": false,
     "input": [
      "cross_validate(X,y,model_svm.fit, 10)"
     ],
     "language": "python",
     "metadata": {},
     "outputs": [
      {
       "metadata": {},
       "output_type": "pyout",
       "prompt_number": 21,
       "text": [
        "0.5518769787426504"
       ]
      }
     ],
     "prompt_number": 21
    },
    {
     "cell_type": "code",
     "collapsed": false,
     "input": [
      "model_svm2 = svm.SVC(kernel='poly')"
     ],
     "language": "python",
     "metadata": {},
     "outputs": [],
     "prompt_number": 22
    },
    {
     "cell_type": "code",
     "collapsed": false,
     "input": [
      "model_svm2.fit(X,y)"
     ],
     "language": "python",
     "metadata": {},
     "outputs": [
      {
       "metadata": {},
       "output_type": "pyout",
       "prompt_number": 23,
       "text": [
        "SVC(C=1.0, cache_size=200, class_weight=None, coef0=0.0, degree=3, gamma=0.0,\n",
        "  kernel='poly', max_iter=-1, probability=False, random_state=None,\n",
        "  shrinking=True, tol=0.001, verbose=False)"
       ]
      }
     ],
     "prompt_number": 23
    },
    {
     "cell_type": "code",
     "collapsed": false,
     "input": [
      "cross_validate(X,y,model_svm2.fit, 10)"
     ],
     "language": "python",
     "metadata": {},
     "outputs": [
      {
       "metadata": {},
       "output_type": "pyout",
       "prompt_number": 24,
       "text": [
        "0.99547715965626404"
       ]
      }
     ],
     "prompt_number": 24
    },
    {
     "cell_type": "code",
     "collapsed": false,
     "input": [
      "model_svm3 = svm.SVC(kernel='linear')\n",
      "cross_validate(X,y,model_svm3.fit, 10)"
     ],
     "language": "python",
     "metadata": {},
     "outputs": [
      {
       "metadata": {},
       "output_type": "pyout",
       "prompt_number": 25,
       "text": [
        "0.99850746268656709"
       ]
      }
     ],
     "prompt_number": 25
    },
    {
     "cell_type": "code",
     "collapsed": false,
     "input": [
      "model_svm4 = svm.SVC(kernel='sigmoid')\n",
      "cross_validate(X,y,model_svm4.fit, 10)"
     ],
     "language": "python",
     "metadata": {},
     "outputs": [
      {
       "metadata": {},
       "output_type": "pyout",
       "prompt_number": 26,
       "text": [
        "0.5518769787426504"
       ]
      }
     ],
     "prompt_number": 26
    },
    {
     "cell_type": "code",
     "collapsed": false,
     "input": [
      "for i in xrange(0,7):\n",
      "    model_svmP = svm.SVC(kernel='poly', degree=i)\n",
      "    print cross_validate(X,y,model_svmP.fit, 10)"
     ],
     "language": "python",
     "metadata": {},
     "outputs": [
      {
       "output_type": "stream",
       "stream": "stdout",
       "text": [
        "0.551876978743\n",
        "0.998507462687\n",
        "1.0"
       ]
      },
      {
       "output_type": "stream",
       "stream": "stdout",
       "text": [
        "\n",
        "0.995477159656\n",
        "0.994029850746"
       ]
      },
      {
       "output_type": "stream",
       "stream": "stdout",
       "text": [
        "\n",
        "0.992514699231\n",
        "0.71723202171"
       ]
      },
      {
       "output_type": "stream",
       "stream": "stdout",
       "text": [
        "\n"
       ]
      }
     ],
     "prompt_number": 27
    },
    {
     "cell_type": "code",
     "collapsed": false,
     "input": [
      "from sklearn.decomposition import PCA\n",
      "pca = PCA(n_components = 2).fit(X)\n",
      "print pca.explained_variance_ratio_"
     ],
     "language": "python",
     "metadata": {},
     "outputs": []
    },
    {
     "cell_type": "code",
     "collapsed": false,
     "input": [
      "X1 = pca.transform(X)"
     ],
     "language": "python",
     "metadata": {},
     "outputs": []
    },
    {
     "cell_type": "code",
     "collapsed": false,
     "input": [
      "model_svmP = svm.SVC(kernel='linear')\n",
      "cross_validate(X1,y,model_svmP.fit, 10)"
     ],
     "language": "python",
     "metadata": {},
     "outputs": []
    },
    {
     "cell_type": "code",
     "collapsed": false,
     "input": [
      "from sklearn import learning_curve"
     ],
     "language": "python",
     "metadata": {},
     "outputs": []
    },
    {
     "cell_type": "code",
     "collapsed": false,
     "input": [
      "import numpy as np\n",
      "import matplotlib.pyplot as plt\n",
      "%matplotlib inline\n",
      "from sklearn import cross_validation\n",
      "from sklearn.naive_bayes import GaussianNB\n",
      "from sklearn.svm import SVC\n",
      "from sklearn.datasets import load_digits\n",
      "from sklearn.learning_curve import learning_curve\n",
      "\n",
      "\n",
      "def plot_learning_curve(estimator, title, X, y, ylim=None, cv=None,\n",
      "                        n_jobs=1, train_sizes=np.linspace(.1, 1.0, 5)):\n",
      "\n",
      "    plt.figure()\n",
      "    plt.title(title)\n",
      "    if ylim is not None:\n",
      "        plt.ylim(*ylim)\n",
      "    plt.xlabel(\"Training examples\")\n",
      "    plt.ylabel(\"Score\")\n",
      "    train_sizes, train_scores, test_scores = learning_curve(\n",
      "        estimator, X, y, cv=cv, n_jobs=n_jobs, train_sizes=train_sizes)\n",
      "    train_scores_mean = np.mean(train_scores, axis=1)\n",
      "    train_scores_std = np.std(train_scores, axis=1)\n",
      "    test_scores_mean = np.mean(test_scores, axis=1)\n",
      "    test_scores_std = np.std(test_scores, axis=1)\n",
      "    plt.grid()\n",
      "\n",
      "    plt.fill_between(train_sizes, train_scores_mean - train_scores_std,\n",
      "                     train_scores_mean + train_scores_std, alpha=0.1,\n",
      "                     color=\"r\")\n",
      "    plt.fill_between(train_sizes, test_scores_mean - test_scores_std,\n",
      "                     test_scores_mean + test_scores_std, alpha=0.1, color=\"g\")\n",
      "    plt.plot(train_sizes, train_scores_mean, 'o-', color=\"r\",\n",
      "             label=\"Training score\")\n",
      "    plt.plot(train_sizes, test_scores_mean, 'o-', color=\"g\",\n",
      "             label=\"Cross-validation score\")\n",
      "\n",
      "    plt.legend(loc=\"best\")\n",
      "    return plt\n",
      "\n",
      "\n",
      "\n",
      "cv = cross_validation.ShuffleSplit(X.shape[0], n_iter=100,\n",
      "                                   test_size=0.2, random_state=0)\n",
      "\n",
      "estimator = GaussianNB()\n",
      "plot_learning_curve(estimator, 'naive bayes learning curve', X, y, ylim=(0.7, 1.01), cv=cv, n_jobs=4)\n",
      "\n",
      "\n",
      "# SVC is more expensive so we do a lower number of CV iterations:\n",
      "cv = cross_validation.ShuffleSplit(X.shape[0], n_iter=10,\n",
      "                                   test_size=0.2, random_state=0)\n",
      "estimator = SVC(gamma=0.001, kernel = 'poly')\n",
      "plot_learning_curve(estimator, 'SVM learning curve', X, y, (0.7, 1.01), cv=cv, n_jobs=4)\n",
      "\n",
      "plt.show()"
     ],
     "language": "python",
     "metadata": {},
     "outputs": [
      {
       "metadata": {},
       "output_type": "display_data",
       "png": "[encoded data removed]",
       "text": [
        "<matplotlib.figure.Figure at 0x7ffd902b0710>"
       ]
      },
      {
       "metadata": {},
       "output_type": "display_data",
       "png": "[encoded data removed]",
       "text": [
        "<matplotlib.figure.Figure at 0x7ffd5e3858d0>"
       ]
      }
     ],
     "prompt_number": 21
    },
    {
     "cell_type": "code",
     "collapsed": false,
     "input": [],
     "language": "python",
     "metadata": {},
     "outputs": [],
     "prompt_number": 21
    },
    {
     "cell_type": "code",
     "collapsed": false,
     "input": [],
     "language": "python",
     "metadata": {},
     "outputs": []
    }
   ],
   "metadata": {}
  }
 ]
}