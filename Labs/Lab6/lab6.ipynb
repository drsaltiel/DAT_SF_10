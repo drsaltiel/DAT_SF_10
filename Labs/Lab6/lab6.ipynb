{
 "metadata": {
  "name": "",
  "signature": "sha256:cb8e0e7b64e69c50a67c36bfc2695820f332bebc19ae853a696588a9242d97fc"
 },
 "nbformat": 3,
 "nbformat_minor": 0,
 "worksheets": [
  {
   "cells": [
    {
     "cell_type": "code",
     "collapsed": false,
     "input": [
      "import pandas as pd\n",
      "\n",
      "data = pd.read_csv('student_logins.csv')"
     ],
     "language": "python",
     "metadata": {},
     "outputs": [],
     "prompt_number": 195
    },
    {
     "cell_type": "code",
     "collapsed": false,
     "input": [
      "data.head()"
     ],
     "language": "python",
     "metadata": {},
     "outputs": [
      {
       "html": [
        "<div style=\"max-height:1000px;max-width:1500px;overflow:auto;\">\n",
        "<table border=\"1\" class=\"dataframe\">\n",
        "  <thead>\n",
        "    <tr style=\"text-align: right;\">\n",
        "      <th></th>\n",
        "      <th>session_start_time</th>\n",
        "      <th>session_end_time</th>\n",
        "      <th>class_id</th>\n",
        "      <th>problems_completed</th>\n",
        "      <th>student_id</th>\n",
        "      <th>student_account_created</th>\n",
        "      <th>student_previous_logins_total</th>\n",
        "      <th>student_previous_class_logins</th>\n",
        "    </tr>\n",
        "  </thead>\n",
        "  <tbody>\n",
        "    <tr>\n",
        "      <th>0</th>\n",
        "      <td> 1/6/12 16:28</td>\n",
        "      <td> 1/6/12 16:55</td>\n",
        "      <td> e</td>\n",
        "      <td> 37</td>\n",
        "      <td>  91</td>\n",
        "      <td> 10/26/11 0:00</td>\n",
        "      <td>  76</td>\n",
        "      <td>  27</td>\n",
        "    </tr>\n",
        "    <tr>\n",
        "      <th>1</th>\n",
        "      <td> 1/7/12 11:00</td>\n",
        "      <td> 1/7/12 11:27</td>\n",
        "      <td> e</td>\n",
        "      <td> 24</td>\n",
        "      <td> 161</td>\n",
        "      <td>   1/6/12 0:00</td>\n",
        "      <td>   2</td>\n",
        "      <td>   0</td>\n",
        "    </tr>\n",
        "    <tr>\n",
        "      <th>2</th>\n",
        "      <td>  1/8/12 9:04</td>\n",
        "      <td>  1/8/12 9:31</td>\n",
        "      <td> e</td>\n",
        "      <td> 50</td>\n",
        "      <td> 141</td>\n",
        "      <td> 12/31/11 0:00</td>\n",
        "      <td>   8</td>\n",
        "      <td>   5</td>\n",
        "    </tr>\n",
        "    <tr>\n",
        "      <th>3</th>\n",
        "      <td> 1/9/12 12:41</td>\n",
        "      <td> 1/9/12 12:48</td>\n",
        "      <td> e</td>\n",
        "      <td> 26</td>\n",
        "      <td> 101</td>\n",
        "      <td> 11/16/11 0:00</td>\n",
        "      <td> 199</td>\n",
        "      <td> 104</td>\n",
        "    </tr>\n",
        "    <tr>\n",
        "      <th>4</th>\n",
        "      <td> 1/9/12 16:59</td>\n",
        "      <td> 1/9/12 17:43</td>\n",
        "      <td> m</td>\n",
        "      <td> 37</td>\n",
        "      <td> 103</td>\n",
        "      <td> 11/23/11 0:00</td>\n",
        "      <td> 100</td>\n",
        "      <td>  41</td>\n",
        "    </tr>\n",
        "  </tbody>\n",
        "</table>\n",
        "</div>"
       ],
       "metadata": {},
       "output_type": "pyout",
       "prompt_number": 196,
       "text": [
        "  session_start_time session_end_time class_id  problems_completed  \\\n",
        "0       1/6/12 16:28     1/6/12 16:55        e                  37   \n",
        "1       1/7/12 11:00     1/7/12 11:27        e                  24   \n",
        "2        1/8/12 9:04      1/8/12 9:31        e                  50   \n",
        "3       1/9/12 12:41     1/9/12 12:48        e                  26   \n",
        "4       1/9/12 16:59     1/9/12 17:43        m                  37   \n",
        "\n",
        "   student_id student_account_created  student_previous_logins_total  \\\n",
        "0          91           10/26/11 0:00                             76   \n",
        "1         161             1/6/12 0:00                              2   \n",
        "2         141           12/31/11 0:00                              8   \n",
        "3         101           11/16/11 0:00                            199   \n",
        "4         103           11/23/11 0:00                            100   \n",
        "\n",
        "   student_previous_class_logins  \n",
        "0                             27  \n",
        "1                              0  \n",
        "2                              5  \n",
        "3                            104  \n",
        "4                             41  "
       ]
      }
     ],
     "prompt_number": 196
    },
    {
     "cell_type": "markdown",
     "metadata": {},
     "source": [
      "###Find session length time and express as an integer"
     ]
    },
    {
     "cell_type": "code",
     "collapsed": false,
     "input": [
      "import datetime as dt\n",
      "#session time = session end - session start\n",
      "data['session_end_time'][0]"
     ],
     "language": "python",
     "metadata": {},
     "outputs": [
      {
       "metadata": {},
       "output_type": "pyout",
       "prompt_number": 197,
       "text": [
        "'1/6/12 16:55'"
       ]
      }
     ],
     "prompt_number": 197
    },
    {
     "cell_type": "code",
     "collapsed": false,
     "input": [
      "a = dt.datetime.strptime(data['session_end_time'][0], '%m/%d/%y  %H:%M')\n",
      "a.minute"
     ],
     "language": "python",
     "metadata": {},
     "outputs": [
      {
       "metadata": {},
       "output_type": "pyout",
       "prompt_number": 198,
       "text": [
        "55"
       ]
      }
     ],
     "prompt_number": 198
    },
    {
     "cell_type": "code",
     "collapsed": false,
     "input": [
      "(dt.datetime.strptime(data['session_end_time'][0], '%m/%d/%y  %H:%M') - dt.datetime.strptime(\n",
      "    data['session_start_time'][0], '%m/%d/%y  %H:%M')).seconds"
     ],
     "language": "python",
     "metadata": {},
     "outputs": [
      {
       "metadata": {},
       "output_type": "pyout",
       "prompt_number": 199,
       "text": [
        "1620"
       ]
      }
     ],
     "prompt_number": 199
    },
    {
     "cell_type": "code",
     "collapsed": false,
     "input": [
      "session_time = [(dt.datetime.strptime(data['session_end_time'][i], '%m/%d/%y  %H:%M') - dt.datetime.strptime(\n",
      "    data['session_start_time'][i], '%m/%d/%y  %H:%M')).seconds for i in range(0, len(data))]\n",
      "session_time[:5]"
     ],
     "language": "python",
     "metadata": {},
     "outputs": [
      {
       "metadata": {},
       "output_type": "pyout",
       "prompt_number": 200,
       "text": [
        "[1620, 1620, 1620, 420, 2640]"
       ]
      }
     ],
     "prompt_number": 200
    },
    {
     "cell_type": "code",
     "collapsed": false,
     "input": [
      "index = range(0, len(session_time))\n",
      "df_session_time = pd.DataFrame(session_time, index = index, columns = ['session_time'])\n",
      "df_session_time.head()"
     ],
     "language": "python",
     "metadata": {},
     "outputs": [
      {
       "html": [
        "<div style=\"max-height:1000px;max-width:1500px;overflow:auto;\">\n",
        "<table border=\"1\" class=\"dataframe\">\n",
        "  <thead>\n",
        "    <tr style=\"text-align: right;\">\n",
        "      <th></th>\n",
        "      <th>session_time</th>\n",
        "    </tr>\n",
        "  </thead>\n",
        "  <tbody>\n",
        "    <tr>\n",
        "      <th>0</th>\n",
        "      <td> 1620</td>\n",
        "    </tr>\n",
        "    <tr>\n",
        "      <th>1</th>\n",
        "      <td> 1620</td>\n",
        "    </tr>\n",
        "    <tr>\n",
        "      <th>2</th>\n",
        "      <td> 1620</td>\n",
        "    </tr>\n",
        "    <tr>\n",
        "      <th>3</th>\n",
        "      <td>  420</td>\n",
        "    </tr>\n",
        "    <tr>\n",
        "      <th>4</th>\n",
        "      <td> 2640</td>\n",
        "    </tr>\n",
        "  </tbody>\n",
        "</table>\n",
        "</div>"
       ],
       "metadata": {},
       "output_type": "pyout",
       "prompt_number": 201,
       "text": [
        "   session_time\n",
        "0          1620\n",
        "1          1620\n",
        "2          1620\n",
        "3           420\n",
        "4          2640"
       ]
      }
     ],
     "prompt_number": 201
    },
    {
     "cell_type": "markdown",
     "metadata": {},
     "source": [
      "##convert categorical variables into integers"
     ]
    },
    {
     "cell_type": "markdown",
     "metadata": {},
     "source": [
      "###change class id into an integer"
     ]
    },
    {
     "cell_type": "code",
     "collapsed": false,
     "input": [
      "import numpy as np\n",
      "class_id_dict = {class_id : i for i, class_id in list(enumerate(np.unique(data['class_id']))) }\n",
      "data['class_id_'] = data['class_id'].map(lambda x: class_id_dict[x])\n",
      "data.head()"
     ],
     "language": "python",
     "metadata": {},
     "outputs": [
      {
       "html": [
        "<div style=\"max-height:1000px;max-width:1500px;overflow:auto;\">\n",
        "<table border=\"1\" class=\"dataframe\">\n",
        "  <thead>\n",
        "    <tr style=\"text-align: right;\">\n",
        "      <th></th>\n",
        "      <th>session_start_time</th>\n",
        "      <th>session_end_time</th>\n",
        "      <th>class_id</th>\n",
        "      <th>problems_completed</th>\n",
        "      <th>student_id</th>\n",
        "      <th>student_account_created</th>\n",
        "      <th>student_previous_logins_total</th>\n",
        "      <th>student_previous_class_logins</th>\n",
        "      <th>class_id_</th>\n",
        "    </tr>\n",
        "  </thead>\n",
        "  <tbody>\n",
        "    <tr>\n",
        "      <th>0</th>\n",
        "      <td> 1/6/12 16:28</td>\n",
        "      <td> 1/6/12 16:55</td>\n",
        "      <td> e</td>\n",
        "      <td> 37</td>\n",
        "      <td>  91</td>\n",
        "      <td> 10/26/11 0:00</td>\n",
        "      <td>  76</td>\n",
        "      <td>  27</td>\n",
        "      <td> 2</td>\n",
        "    </tr>\n",
        "    <tr>\n",
        "      <th>1</th>\n",
        "      <td> 1/7/12 11:00</td>\n",
        "      <td> 1/7/12 11:27</td>\n",
        "      <td> e</td>\n",
        "      <td> 24</td>\n",
        "      <td> 161</td>\n",
        "      <td>   1/6/12 0:00</td>\n",
        "      <td>   2</td>\n",
        "      <td>   0</td>\n",
        "      <td> 2</td>\n",
        "    </tr>\n",
        "    <tr>\n",
        "      <th>2</th>\n",
        "      <td>  1/8/12 9:04</td>\n",
        "      <td>  1/8/12 9:31</td>\n",
        "      <td> e</td>\n",
        "      <td> 50</td>\n",
        "      <td> 141</td>\n",
        "      <td> 12/31/11 0:00</td>\n",
        "      <td>   8</td>\n",
        "      <td>   5</td>\n",
        "      <td> 2</td>\n",
        "    </tr>\n",
        "    <tr>\n",
        "      <th>3</th>\n",
        "      <td> 1/9/12 12:41</td>\n",
        "      <td> 1/9/12 12:48</td>\n",
        "      <td> e</td>\n",
        "      <td> 26</td>\n",
        "      <td> 101</td>\n",
        "      <td> 11/16/11 0:00</td>\n",
        "      <td> 199</td>\n",
        "      <td> 104</td>\n",
        "      <td> 2</td>\n",
        "    </tr>\n",
        "    <tr>\n",
        "      <th>4</th>\n",
        "      <td> 1/9/12 16:59</td>\n",
        "      <td> 1/9/12 17:43</td>\n",
        "      <td> m</td>\n",
        "      <td> 37</td>\n",
        "      <td> 103</td>\n",
        "      <td> 11/23/11 0:00</td>\n",
        "      <td> 100</td>\n",
        "      <td>  41</td>\n",
        "      <td> 4</td>\n",
        "    </tr>\n",
        "  </tbody>\n",
        "</table>\n",
        "</div>"
       ],
       "metadata": {},
       "output_type": "pyout",
       "prompt_number": 202,
       "text": [
        "  session_start_time session_end_time class_id  problems_completed  \\\n",
        "0       1/6/12 16:28     1/6/12 16:55        e                  37   \n",
        "1       1/7/12 11:00     1/7/12 11:27        e                  24   \n",
        "2        1/8/12 9:04      1/8/12 9:31        e                  50   \n",
        "3       1/9/12 12:41     1/9/12 12:48        e                  26   \n",
        "4       1/9/12 16:59     1/9/12 17:43        m                  37   \n",
        "\n",
        "   student_id student_account_created  student_previous_logins_total  \\\n",
        "0          91           10/26/11 0:00                             76   \n",
        "1         161             1/6/12 0:00                              2   \n",
        "2         141           12/31/11 0:00                              8   \n",
        "3         101           11/16/11 0:00                            199   \n",
        "4         103           11/23/11 0:00                            100   \n",
        "\n",
        "   student_previous_class_logins  class_id_  \n",
        "0                             27          2  \n",
        "1                              0          2  \n",
        "2                              5          2  \n",
        "3                            104          2  \n",
        "4                             41          4  "
       ]
      }
     ],
     "prompt_number": 202
    },
    {
     "cell_type": "markdown",
     "metadata": {},
     "source": [
      "###convert student_account_created into int"
     ]
    },
    {
     "cell_type": "code",
     "collapsed": false,
     "input": [
      "creation_times = [dt.datetime.strptime(data['student_account_created'][i], '%m/%d/%y  %H:%M') for i in range(0,len(data))]\n",
      "first = min(creation_times)\n",
      "lifespans = [(dt.datetime.strptime(data['student_account_created'][i], '%m/%d/%y  %H:%M') - first).days for i in range(0,len(data))]\n",
      "lifespans[:5]"
     ],
     "language": "python",
     "metadata": {},
     "outputs": [
      {
       "metadata": {},
       "output_type": "pyout",
       "prompt_number": 215,
       "text": [
        "[153, 225, 219, 174, 181]"
       ]
      }
     ],
     "prompt_number": 215
    },
    {
     "cell_type": "code",
     "collapsed": false,
     "input": [
      "data_df = pd.DataFrame({#'class_id': data['class_id_'],\n",
      "                        'problems_completed': data['problems_completed'],\n",
      "                        #'student_id': data['student_id'],\n",
      "                        'account_lifespan': lifespans,\n",
      "                        'student_previous_logins_total': data['student_previous_logins_total'],\n",
      "                        'student_previous_class_logins': data['student_previous_class_logins']})\n",
      "#                         'session_time': df_session_time['session_time']})\n",
      "data_df.head()"
     ],
     "language": "python",
     "metadata": {},
     "outputs": [
      {
       "html": [
        "<div style=\"max-height:1000px;max-width:1500px;overflow:auto;\">\n",
        "<table border=\"1\" class=\"dataframe\">\n",
        "  <thead>\n",
        "    <tr style=\"text-align: right;\">\n",
        "      <th></th>\n",
        "      <th>account_lifespan</th>\n",
        "      <th>problems_completed</th>\n",
        "      <th>student_previous_class_logins</th>\n",
        "      <th>student_previous_logins_total</th>\n",
        "    </tr>\n",
        "  </thead>\n",
        "  <tbody>\n",
        "    <tr>\n",
        "      <th>0</th>\n",
        "      <td> 153</td>\n",
        "      <td> 37</td>\n",
        "      <td>  27</td>\n",
        "      <td>  76</td>\n",
        "    </tr>\n",
        "    <tr>\n",
        "      <th>1</th>\n",
        "      <td> 225</td>\n",
        "      <td> 24</td>\n",
        "      <td>   0</td>\n",
        "      <td>   2</td>\n",
        "    </tr>\n",
        "    <tr>\n",
        "      <th>2</th>\n",
        "      <td> 219</td>\n",
        "      <td> 50</td>\n",
        "      <td>   5</td>\n",
        "      <td>   8</td>\n",
        "    </tr>\n",
        "    <tr>\n",
        "      <th>3</th>\n",
        "      <td> 174</td>\n",
        "      <td> 26</td>\n",
        "      <td> 104</td>\n",
        "      <td> 199</td>\n",
        "    </tr>\n",
        "    <tr>\n",
        "      <th>4</th>\n",
        "      <td> 181</td>\n",
        "      <td> 37</td>\n",
        "      <td>  41</td>\n",
        "      <td> 100</td>\n",
        "    </tr>\n",
        "  </tbody>\n",
        "</table>\n",
        "</div>"
       ],
       "metadata": {},
       "output_type": "pyout",
       "prompt_number": 216,
       "text": [
        "   account_lifespan  problems_completed  student_previous_class_logins  \\\n",
        "0               153                  37                             27   \n",
        "1               225                  24                              0   \n",
        "2               219                  50                              5   \n",
        "3               174                  26                            104   \n",
        "4               181                  37                             41   \n",
        "\n",
        "   student_previous_logins_total  \n",
        "0                             76  \n",
        "1                              2  \n",
        "2                              8  \n",
        "3                            199  \n",
        "4                            100  "
       ]
      }
     ],
     "prompt_number": 216
    },
    {
     "cell_type": "code",
     "collapsed": false,
     "input": [
      "X = data_df\n",
      "y = pd.DataFrame(df_session_time).values"
     ],
     "language": "python",
     "metadata": {},
     "outputs": [],
     "prompt_number": 219
    },
    {
     "cell_type": "code",
     "collapsed": false,
     "input": [
      "%matplotlib inline\n",
      "import matplotlib.pyplot as plt\n",
      "scatter = plt.plot(data_df['problems_completed'], df_session_time, 'o')"
     ],
     "language": "python",
     "metadata": {},
     "outputs": [
      {
       "metadata": {},
       "output_type": "display_data",
       "png": "[encoded data removed]",
       "text": [
        "<matplotlib.figure.Figure at 0x7f48d9a4bf90>"
       ]
      }
     ],
     "prompt_number": 81
    },
    {
     "cell_type": "code",
     "collapsed": false,
     "input": [
      "import matplotlib.pyplot as plt\n",
      "scatter = plt.plot(data_df['student_previous_class_logins'], df_session_time, 'o')"
     ],
     "language": "python",
     "metadata": {},
     "outputs": [
      {
       "metadata": {},
       "output_type": "display_data",
       "png": "[encoded data removed]",
       "text": [
        "<matplotlib.figure.Figure at 0x7f4904564810>"
       ]
      }
     ],
     "prompt_number": 82
    },
    {
     "cell_type": "code",
     "collapsed": false,
     "input": [
      "import matplotlib.pyplot as plt\n",
      "scatter = plt.plot(data_df['student_previous_logins_total'], df_session_time, 'o')"
     ],
     "language": "python",
     "metadata": {},
     "outputs": [
      {
       "metadata": {},
       "output_type": "display_data",
       "png": "[encoded data removed]",
       "text": [
        "<matplotlib.figure.Figure at 0x7f48e3269e10>"
       ]
      }
     ],
     "prompt_number": 83
    },
    {
     "cell_type": "markdown",
     "metadata": {},
     "source": [
      "-panda function dummyvariable converts categorial variables \n",
      "-measure model with regression (r2, mean squared error) or use cross validation\n",
      "-forward selection - iterates each feature and measures the performance of each\n",
      "-feature engineering - can you make a feature based on, for instance, if certain students take longer\n",
      "    -maybe like ave time for that student as a feature, or ave time per problem for the student times number of problems\n",
      "-do regression with each variable and see which is best predictor?"
     ]
    },
    {
     "cell_type": "markdown",
     "metadata": {},
     "source": [
      "##find the important components\n",
      "(only look at continuous dimensions, not categorical dimensions\\"
     ]
    },
    {
     "cell_type": "code",
     "collapsed": false,
     "input": [
      "mean_vector = np.array([np.mean(X[0]),np.mean(X[1]),np.mean(X[2])])\n",
      "mean_vector"
     ],
     "language": "python",
     "metadata": {},
     "outputs": [
      {
       "metadata": {},
       "output_type": "pyout",
       "prompt_number": 131,
       "text": [
        "array([ 46.66666667,   8.66666667,  21.        ])"
       ]
      }
     ],
     "prompt_number": 131
    },
    {
     "cell_type": "code",
     "collapsed": false,
     "input": [
      "scatter_matrix = np.zeros((3,3))\n",
      "for i in range(len(X)):\n",
      "    row = X[i,:]\n",
      "    scatter_matrix += (row.reshape(3,1) - mean_vector).dot((row.reshape(3,1) - mean_vector).T)\n",
      "scatter_matrix"
     ],
     "language": "python",
     "metadata": {},
     "outputs": [
      {
       "metadata": {},
       "output_type": "pyout",
       "prompt_number": 132,
       "text": [
        "array([[  6.51852111e+07,  -2.07906082e+07,  -2.60306732e+08],\n",
        "       [ -2.07906082e+07,   1.14125759e+09,   3.49463852e+09],\n",
        "       [ -2.60306732e+08,   3.49463852e+09,   1.46526744e+10]])"
       ]
      }
     ],
     "prompt_number": 132
    },
    {
     "cell_type": "code",
     "collapsed": false,
     "input": [
      "cov_mat = np.cov([X[:,0],X[:,1],X[:,2]])\n",
      "cov_mat"
     ],
     "language": "python",
     "metadata": {},
     "outputs": [
      {
       "metadata": {},
       "output_type": "pyout",
       "prompt_number": 133,
       "text": [
        "array([[  1.19051943e+02,  -2.99837281e+01,  -1.94336056e+02],\n",
        "       [ -2.99837281e+01,   5.82190273e+03,   1.48850304e+04],\n",
        "       [ -1.94336056e+02,   1.48850304e+04,   5.56056765e+04]])"
       ]
      }
     ],
     "prompt_number": 133
    },
    {
     "cell_type": "code",
     "collapsed": false,
     "input": [
      "# eigenvectors and eigenvalues for the from the scatter matrix\n",
      "eig_val_sc, eig_vec_sc = np.linalg.eig(scatter_matrix)\n",
      "\n",
      "# eigenvectors and eigenvalues for the from the covariance matrix\n",
      "eig_val_cov, eig_vec_cov = np.linalg.eig(cov_mat)\n",
      "\n",
      "for i in range(len(eig_val_sc)):\n",
      "    eigvec_sc = eig_vec_sc[i,:].reshape(1,3).T\n",
      "    eigvec_cov = eig_vec_cov[i,:].reshape(1,3).T\n",
      "    assert eigvec_sc.all() == eigvec_cov.all(), 'Eigenvectors are not identical'\n",
      "\n",
      "    print('Eigenvector {}: \\n{}'.format(i+1, eigvec_sc))\n",
      "    print('Eigenvalue {} from scatter matrix: {}'.format(i+1, eig_val_sc[i]))\n",
      "    print('Eigenvalue {} from covariance matrix: {}'.format(i+1, eig_val_cov[i]))\n",
      "    print('Scaling factor: ', eig_val_sc[i]/eig_val_cov[i])\n",
      "    print(40 * '-')"
     ],
     "language": "python",
     "metadata": {},
     "outputs": [
      {
       "output_type": "stream",
       "stream": "stdout",
       "text": [
        "Eigenvector 1: \n",
        "[[ 0.0166951 ]\n",
        " [-0.98501866]\n",
        " [-0.17163772]]\n",
        "Eigenvalue 1 from scatter matrix: 15507327692.7\n",
        "Eigenvalue 1 from covariance matrix: 59717.3633042\n",
        "('Scaling factor: ', 259678.70707442521)\n",
        "----------------------------------------\n",
        "Eigenvector 2: \n",
        "[[-0.23635352]\n",
        " [ 0.16290869]\n",
        " [-0.95791324]]\n",
        "Eigenvalue 2 from scatter matrix: 53676918.4348\n",
        "Eigenvalue 2 from covariance matrix: 118.084566017\n",
        "('Scaling factor: ', 454563.37136349455)\n",
        "----------------------------------------\n",
        "Eigenvector 3: \n",
        "[[-0.97152369]\n",
        " [-0.05655964]\n",
        " [ 0.23009285]]\n",
        "Eigenvalue 3 from scatter matrix: 298112558.161\n",
        "Eigenvalue 3 from covariance matrix: 1711.18326597\n",
        "('Scaling factor: ', 174214.27855713133)\n",
        "----------------------------------------\n"
       ]
      }
     ],
     "prompt_number": 134
    },
    {
     "cell_type": "code",
     "collapsed": false,
     "input": [
      "X[:,0]"
     ],
     "language": "python",
     "metadata": {},
     "outputs": [
      {
       "metadata": {},
       "output_type": "pyout",
       "prompt_number": 144,
       "text": [
        "array([37, 24, 50, ..., 25, 12,  9])"
       ]
      }
     ],
     "prompt_number": 144
    },
    {
     "cell_type": "code",
     "collapsed": false,
     "input": [
      "import statsmodels.api as sm\n",
      "#problems completed\n",
      "x = sm.add_constant(X['problems_completed'].values, prepend=True) #add on ones for intercept determination\n",
      "\n",
      "results0 = sm.OLS(y, x).fit()\n",
      "intercept, slope = results0.params\n",
      "\n",
      "r2 = results0.rsquared\n",
      "\n",
      "plt.plot(x, y, 'bo')\n",
      "plt.title(\"login time vs problems completed\")\n",
      "xl = np.array([min(x[:,1]), max(x[:,1])])\n",
      "yl = intercept + slope * xl\n",
      "plt.plot(xl, yl, 'r-')\n",
      "plt.show"
     ],
     "language": "python",
     "metadata": {},
     "outputs": [
      {
       "metadata": {},
       "output_type": "pyout",
       "prompt_number": 220,
       "text": [
        "<function matplotlib.pyplot.show>"
       ]
      },
      {
       "metadata": {},
       "output_type": "display_data",
       "png": "[encoded data removed]",
       "text": [
        "<matplotlib.figure.Figure at 0x7f48d6650e50>"
       ]
      }
     ],
     "prompt_number": 220
    },
    {
     "cell_type": "code",
     "collapsed": false,
     "input": [
      "results0.summary()"
     ],
     "language": "python",
     "metadata": {},
     "outputs": [
      {
       "html": [
        "<table class=\"simpletable\">\n",
        "<caption>OLS Regression Results</caption>\n",
        "<tr>\n",
        "  <th>Dep. Variable:</th>            <td>y</td>        <th>  R-squared:         </th>  <td>   0.352</td>  \n",
        "</tr>\n",
        "<tr>\n",
        "  <th>Model:</th>                   <td>OLS</td>       <th>  Adj. R-squared:    </th>  <td>   0.352</td>  \n",
        "</tr>\n",
        "<tr>\n",
        "  <th>Method:</th>             <td>Least Squares</td>  <th>  F-statistic:       </th>  <td>2.646e+04</td> \n",
        "</tr>\n",
        "<tr>\n",
        "  <th>Date:</th>             <td>Sun, 26 Oct 2014</td> <th>  Prob (F-statistic):</th>   <td>  0.00</td>   \n",
        "</tr>\n",
        "<tr>\n",
        "  <th>Time:</th>                 <td>20:48:49</td>     <th>  Log-Likelihood:    </th> <td>-4.0249e+05</td>\n",
        "</tr>\n",
        "<tr>\n",
        "  <th>No. Observations:</th>      <td> 48758</td>      <th>  AIC:               </th>  <td>8.050e+05</td> \n",
        "</tr>\n",
        "<tr>\n",
        "  <th>Df Residuals:</th>          <td> 48756</td>      <th>  BIC:               </th>  <td>8.050e+05</td> \n",
        "</tr>\n",
        "<tr>\n",
        "  <th>Df Model:</th>              <td>     1</td>      <th>                     </th>      <td> </td>     \n",
        "</tr>\n",
        "</table>\n",
        "<table class=\"simpletable\">\n",
        "<tr>\n",
        "    <td></td>       <th>coef</th>     <th>std err</th>      <th>t</th>      <th>P>|t|</th> <th>[95.0% Conf. Int.]</th> \n",
        "</tr>\n",
        "<tr>\n",
        "  <th>const</th> <td>  348.6956</td> <td>    7.714</td> <td>   45.200</td> <td> 0.000</td> <td>  333.575   363.816</td>\n",
        "</tr>\n",
        "<tr>\n",
        "  <th>x1</th>    <td>   62.8427</td> <td>    0.386</td> <td>  162.667</td> <td> 0.000</td> <td>   62.086    63.600</td>\n",
        "</tr>\n",
        "</table>\n",
        "<table class=\"simpletable\">\n",
        "<tr>\n",
        "  <th>Omnibus:</th>       <td>110630.216</td> <th>  Durbin-Watson:     </th>    <td>   1.975</td>   \n",
        "</tr>\n",
        "<tr>\n",
        "  <th>Prob(Omnibus):</th>   <td> 0.000</td>   <th>  Jarque-Bera (JB):  </th> <td>4701934251.162</td>\n",
        "</tr>\n",
        "<tr>\n",
        "  <th>Skew:</th>            <td>20.910</td>   <th>  Prob(JB):          </th>    <td>    0.00</td>   \n",
        "</tr>\n",
        "<tr>\n",
        "  <th>Kurtosis:</th>       <td>1523.746</td>  <th>  Cond. No.          </th>    <td>    36.6</td>   \n",
        "</tr>\n",
        "</table>"
       ],
       "metadata": {},
       "output_type": "pyout",
       "prompt_number": 221,
       "text": [
        "<class 'statsmodels.iolib.summary.Summary'>\n",
        "\"\"\"\n",
        "                            OLS Regression Results                            \n",
        "==============================================================================\n",
        "Dep. Variable:                      y   R-squared:                       0.352\n",
        "Model:                            OLS   Adj. R-squared:                  0.352\n",
        "Method:                 Least Squares   F-statistic:                 2.646e+04\n",
        "Date:                Sun, 26 Oct 2014   Prob (F-statistic):               0.00\n",
        "Time:                        20:48:49   Log-Likelihood:            -4.0249e+05\n",
        "No. Observations:               48758   AIC:                         8.050e+05\n",
        "Df Residuals:                   48756   BIC:                         8.050e+05\n",
        "Df Model:                           1                                         \n",
        "==============================================================================\n",
        "                 coef    std err          t      P>|t|      [95.0% Conf. Int.]\n",
        "------------------------------------------------------------------------------\n",
        "const        348.6956      7.714     45.200      0.000       333.575   363.816\n",
        "x1            62.8427      0.386    162.667      0.000        62.086    63.600\n",
        "==============================================================================\n",
        "Omnibus:                   110630.216   Durbin-Watson:                   1.975\n",
        "Prob(Omnibus):                  0.000   Jarque-Bera (JB):       4701934251.162\n",
        "Skew:                          20.910   Prob(JB):                         0.00\n",
        "Kurtosis:                    1523.746   Cond. No.                         36.6\n",
        "==============================================================================\n",
        "\"\"\""
       ]
      }
     ],
     "prompt_number": 221
    },
    {
     "cell_type": "code",
     "collapsed": false,
     "input": [
      "#previous class logins\n",
      "x = sm.add_constant(X['student_previous_class_logins'].values, prepend=True) #add on ones for intercept determination\n",
      "\n",
      "results1 = sm.OLS(y, x).fit()\n",
      "intercept, slope = results1.params\n",
      "\n",
      "r2 = results1.rsquared\n",
      "\n",
      "plt.plot(x, y, 'bo')\n",
      "plt.title(\"login time vs previous class logins\")\n",
      "xl = np.array([min(x[:,1]), max(x[:,1])])\n",
      "yl = intercept + slope * xl\n",
      "plt.plot(xl, yl, 'r-')\n",
      "plt.show"
     ],
     "language": "python",
     "metadata": {},
     "outputs": [
      {
       "metadata": {},
       "output_type": "pyout",
       "prompt_number": 222,
       "text": [
        "<function matplotlib.pyplot.show>"
       ]
      },
      {
       "metadata": {},
       "output_type": "display_data",
       "png": "[encoded data removed]",
       "text": [
        "<matplotlib.figure.Figure at 0x7f48d66d8250>"
       ]
      }
     ],
     "prompt_number": 222
    },
    {
     "cell_type": "code",
     "collapsed": false,
     "input": [
      "results1.summary()"
     ],
     "language": "python",
     "metadata": {},
     "outputs": [
      {
       "html": [
        "<table class=\"simpletable\">\n",
        "<caption>OLS Regression Results</caption>\n",
        "<tr>\n",
        "  <th>Dep. Variable:</th>            <td>y</td>        <th>  R-squared:         </th>  <td>   0.003</td>  \n",
        "</tr>\n",
        "<tr>\n",
        "  <th>Model:</th>                   <td>OLS</td>       <th>  Adj. R-squared:    </th>  <td>   0.003</td>  \n",
        "</tr>\n",
        "<tr>\n",
        "  <th>Method:</th>             <td>Least Squares</td>  <th>  F-statistic:       </th>  <td>   150.8</td>  \n",
        "</tr>\n",
        "<tr>\n",
        "  <th>Date:</th>             <td>Sun, 26 Oct 2014</td> <th>  Prob (F-statistic):</th>  <td>1.29e-34</td>  \n",
        "</tr>\n",
        "<tr>\n",
        "  <th>Time:</th>                 <td>20:49:37</td>     <th>  Log-Likelihood:    </th> <td>-4.1299e+05</td>\n",
        "</tr>\n",
        "<tr>\n",
        "  <th>No. Observations:</th>      <td> 48758</td>      <th>  AIC:               </th>  <td>8.260e+05</td> \n",
        "</tr>\n",
        "<tr>\n",
        "  <th>Df Residuals:</th>          <td> 48756</td>      <th>  BIC:               </th>  <td>8.260e+05</td> \n",
        "</tr>\n",
        "<tr>\n",
        "  <th>Df Model:</th>              <td>     1</td>      <th>                     </th>      <td> </td>     \n",
        "</tr>\n",
        "</table>\n",
        "<table class=\"simpletable\">\n",
        "<tr>\n",
        "    <td></td>       <th>coef</th>     <th>std err</th>      <th>t</th>      <th>P>|t|</th> <th>[95.0% Conf. Int.]</th> \n",
        "</tr>\n",
        "<tr>\n",
        "  <th>const</th> <td> 1456.0852</td> <td>    6.958</td> <td>  209.255</td> <td> 0.000</td> <td> 1442.447  1469.724</td>\n",
        "</tr>\n",
        "<tr>\n",
        "  <th>x1</th>    <td>   -0.8414</td> <td>    0.069</td> <td>  -12.281</td> <td> 0.000</td> <td>   -0.976    -0.707</td>\n",
        "</tr>\n",
        "</table>\n",
        "<table class=\"simpletable\">\n",
        "<tr>\n",
        "  <th>Omnibus:</th>       <td>86548.854</td> <th>  Durbin-Watson:     </th>   <td>   1.959</td>   \n",
        "</tr>\n",
        "<tr>\n",
        "  <th>Prob(Omnibus):</th>  <td> 0.000</td>   <th>  Jarque-Bera (JB):  </th> <td>901085319.058</td>\n",
        "</tr>\n",
        "<tr>\n",
        "  <th>Skew:</th>           <td>11.894</td>   <th>  Prob(JB):          </th>   <td>    0.00</td>   \n",
        "</tr>\n",
        "<tr>\n",
        "  <th>Kurtosis:</th>       <td>668.562</td>  <th>  Cond. No.          </th>   <td>    135.</td>   \n",
        "</tr>\n",
        "</table>"
       ],
       "metadata": {},
       "output_type": "pyout",
       "prompt_number": 223,
       "text": [
        "<class 'statsmodels.iolib.summary.Summary'>\n",
        "\"\"\"\n",
        "                            OLS Regression Results                            \n",
        "==============================================================================\n",
        "Dep. Variable:                      y   R-squared:                       0.003\n",
        "Model:                            OLS   Adj. R-squared:                  0.003\n",
        "Method:                 Least Squares   F-statistic:                     150.8\n",
        "Date:                Sun, 26 Oct 2014   Prob (F-statistic):           1.29e-34\n",
        "Time:                        20:49:37   Log-Likelihood:            -4.1299e+05\n",
        "No. Observations:               48758   AIC:                         8.260e+05\n",
        "Df Residuals:                   48756   BIC:                         8.260e+05\n",
        "Df Model:                           1                                         \n",
        "==============================================================================\n",
        "                 coef    std err          t      P>|t|      [95.0% Conf. Int.]\n",
        "------------------------------------------------------------------------------\n",
        "const       1456.0852      6.958    209.255      0.000      1442.447  1469.724\n",
        "x1            -0.8414      0.069    -12.281      0.000        -0.976    -0.707\n",
        "==============================================================================\n",
        "Omnibus:                    86548.854   Durbin-Watson:                   1.959\n",
        "Prob(Omnibus):                  0.000   Jarque-Bera (JB):        901085319.058\n",
        "Skew:                          11.894   Prob(JB):                         0.00\n",
        "Kurtosis:                     668.562   Cond. No.                         135.\n",
        "==============================================================================\n",
        "\"\"\""
       ]
      }
     ],
     "prompt_number": 223
    },
    {
     "cell_type": "code",
     "collapsed": false,
     "input": [
      "#previous total logins\n",
      "x = sm.add_constant(X['student_previous_logins_total'].values, prepend=True) \n",
      "results2 = sm.OLS(y, x).fit()\n",
      "intercept, slope = results2.params\n",
      "\n",
      "r2 = results2.rsquared\n",
      "\n",
      "plt.plot(x, y, 'bo')\n",
      "plt.title(\"login time vs previous total logins\")\n",
      "xl = np.array([min(x[:,1]), max(x[:,1])])\n",
      "yl = intercept + slope * xl\n",
      "plt.plot(xl, yl, 'r-')\n",
      "plt.show"
     ],
     "language": "python",
     "metadata": {},
     "outputs": [
      {
       "metadata": {},
       "output_type": "pyout",
       "prompt_number": 224,
       "text": [
        "<function matplotlib.pyplot.show>"
       ]
      },
      {
       "metadata": {},
       "output_type": "display_data",
       "png": "[encoded data removed]",
       "text": [
        "<matplotlib.figure.Figure at 0x7f48d67ce750>"
       ]
      }
     ],
     "prompt_number": 224
    },
    {
     "cell_type": "code",
     "collapsed": false,
     "input": [
      "results2.summary()"
     ],
     "language": "python",
     "metadata": {},
     "outputs": [
      {
       "html": [
        "<table class=\"simpletable\">\n",
        "<caption>OLS Regression Results</caption>\n",
        "<tr>\n",
        "  <th>Dep. Variable:</th>            <td>y</td>        <th>  R-squared:         </th>  <td>   0.004</td>  \n",
        "</tr>\n",
        "<tr>\n",
        "  <th>Model:</th>                   <td>OLS</td>       <th>  Adj. R-squared:    </th>  <td>   0.004</td>  \n",
        "</tr>\n",
        "<tr>\n",
        "  <th>Method:</th>             <td>Least Squares</td>  <th>  F-statistic:       </th>  <td>   214.8</td>  \n",
        "</tr>\n",
        "<tr>\n",
        "  <th>Date:</th>             <td>Sun, 26 Oct 2014</td> <th>  Prob (F-statistic):</th>  <td>1.59e-48</td>  \n",
        "</tr>\n",
        "<tr>\n",
        "  <th>Time:</th>                 <td>14:45:37</td>     <th>  Log-Likelihood:    </th> <td>-4.1296e+05</td>\n",
        "</tr>\n",
        "<tr>\n",
        "  <th>No. Observations:</th>      <td> 48758</td>      <th>  AIC:               </th>  <td>8.259e+05</td> \n",
        "</tr>\n",
        "<tr>\n",
        "  <th>Df Residuals:</th>          <td> 48756</td>      <th>  BIC:               </th>  <td>8.259e+05</td> \n",
        "</tr>\n",
        "<tr>\n",
        "  <th>Df Model:</th>              <td>     1</td>      <th>                     </th>      <td> </td>     \n",
        "</tr>\n",
        "</table>\n",
        "<table class=\"simpletable\">\n",
        "<tr>\n",
        "    <td></td>       <th>coef</th>     <th>std err</th>      <th>t</th>      <th>P>|t|</th> <th>[95.0% Conf. Int.]</th> \n",
        "</tr>\n",
        "<tr>\n",
        "  <th>const</th> <td> 1476.2905</td> <td>    7.390</td> <td>  199.758</td> <td> 0.000</td> <td> 1461.805  1490.776</td>\n",
        "</tr>\n",
        "<tr>\n",
        "  <th>x1</th>    <td>   -0.3247</td> <td>    0.022</td> <td>  -14.655</td> <td> 0.000</td> <td>   -0.368    -0.281</td>\n",
        "</tr>\n",
        "</table>\n",
        "<table class=\"simpletable\">\n",
        "<tr>\n",
        "  <th>Omnibus:</th>       <td>86615.891</td> <th>  Durbin-Watson:     </th>   <td>   1.958</td>   \n",
        "</tr>\n",
        "<tr>\n",
        "  <th>Prob(Omnibus):</th>  <td> 0.000</td>   <th>  Jarque-Bera (JB):  </th> <td>905442582.243</td>\n",
        "</tr>\n",
        "<tr>\n",
        "  <th>Skew:</th>           <td>11.914</td>   <th>  Prob(JB):          </th>   <td>    0.00</td>   \n",
        "</tr>\n",
        "<tr>\n",
        "  <th>Kurtosis:</th>       <td>670.170</td>  <th>  Cond. No.          </th>   <td>    472.</td>   \n",
        "</tr>\n",
        "</table>"
       ],
       "metadata": {},
       "output_type": "pyout",
       "prompt_number": 170,
       "text": [
        "<class 'statsmodels.iolib.summary.Summary'>\n",
        "\"\"\"\n",
        "                            OLS Regression Results                            \n",
        "==============================================================================\n",
        "Dep. Variable:                      y   R-squared:                       0.004\n",
        "Model:                            OLS   Adj. R-squared:                  0.004\n",
        "Method:                 Least Squares   F-statistic:                     214.8\n",
        "Date:                Sun, 26 Oct 2014   Prob (F-statistic):           1.59e-48\n",
        "Time:                        14:45:37   Log-Likelihood:            -4.1296e+05\n",
        "No. Observations:               48758   AIC:                         8.259e+05\n",
        "Df Residuals:                   48756   BIC:                         8.259e+05\n",
        "Df Model:                           1                                         \n",
        "==============================================================================\n",
        "                 coef    std err          t      P>|t|      [95.0% Conf. Int.]\n",
        "------------------------------------------------------------------------------\n",
        "const       1476.2905      7.390    199.758      0.000      1461.805  1490.776\n",
        "x1            -0.3247      0.022    -14.655      0.000        -0.368    -0.281\n",
        "==============================================================================\n",
        "Omnibus:                    86615.891   Durbin-Watson:                   1.958\n",
        "Prob(Omnibus):                  0.000   Jarque-Bera (JB):        905442582.243\n",
        "Skew:                          11.914   Prob(JB):                         0.00\n",
        "Kurtosis:                     670.170   Cond. No.                         472.\n",
        "==============================================================================\n",
        "\"\"\""
       ]
      }
     ],
     "prompt_number": 170
    },
    {
     "cell_type": "code",
     "collapsed": false,
     "input": [
      "#account lifespan\n",
      "x = sm.add_constant(X['account_lifespan'].values, prepend=True) #add on ones for intercept determination\n",
      "\n",
      "results4 = sm.OLS(y, x).fit()\n",
      "intercept, slope = results4.params\n",
      "\n",
      "r2 = results4.rsquared\n",
      "\n",
      "plt.plot(x, y, 'bo')\n",
      "plt.title(\"login time vs account lifespan\")\n",
      "xl = np.array([min(x[:,1]), max(x[:,1])])\n",
      "yl = intercept + slope * xl\n",
      "plt.plot(xl, yl, 'r-')\n",
      "plt.show"
     ],
     "language": "python",
     "metadata": {},
     "outputs": [
      {
       "metadata": {},
       "output_type": "pyout",
       "prompt_number": 225,
       "text": [
        "<function matplotlib.pyplot.show>"
       ]
      },
      {
       "metadata": {},
       "output_type": "display_data",
       "png": "[encoded data removed]",
       "text": [
        "<matplotlib.figure.Figure at 0x7f48d5f7c090>"
       ]
      }
     ],
     "prompt_number": 225
    },
    {
     "cell_type": "code",
     "collapsed": false,
     "input": [
      "results4.summary()"
     ],
     "language": "python",
     "metadata": {},
     "outputs": [
      {
       "html": [
        "<table class=\"simpletable\">\n",
        "<caption>OLS Regression Results</caption>\n",
        "<tr>\n",
        "  <th>Dep. Variable:</th>            <td>y</td>        <th>  R-squared:         </th>  <td>   0.003</td>  \n",
        "</tr>\n",
        "<tr>\n",
        "  <th>Model:</th>                   <td>OLS</td>       <th>  Adj. R-squared:    </th>  <td>   0.003</td>  \n",
        "</tr>\n",
        "<tr>\n",
        "  <th>Method:</th>             <td>Least Squares</td>  <th>  F-statistic:       </th>  <td>   143.6</td>  \n",
        "</tr>\n",
        "<tr>\n",
        "  <th>Date:</th>             <td>Sun, 26 Oct 2014</td> <th>  Prob (F-statistic):</th>  <td>4.82e-33</td>  \n",
        "</tr>\n",
        "<tr>\n",
        "  <th>Time:</th>                 <td>20:51:13</td>     <th>  Log-Likelihood:    </th> <td>-4.1299e+05</td>\n",
        "</tr>\n",
        "<tr>\n",
        "  <th>No. Observations:</th>      <td> 48758</td>      <th>  AIC:               </th>  <td>8.260e+05</td> \n",
        "</tr>\n",
        "<tr>\n",
        "  <th>Df Residuals:</th>          <td> 48756</td>      <th>  BIC:               </th>  <td>8.260e+05</td> \n",
        "</tr>\n",
        "<tr>\n",
        "  <th>Df Model:</th>              <td>     1</td>      <th>                     </th>      <td> </td>     \n",
        "</tr>\n",
        "</table>\n",
        "<table class=\"simpletable\">\n",
        "<tr>\n",
        "    <td></td>       <th>coef</th>     <th>std err</th>      <th>t</th>      <th>P>|t|</th> <th>[95.0% Conf. Int.]</th> \n",
        "</tr>\n",
        "<tr>\n",
        "  <th>const</th> <td> 1214.1542</td> <td>   16.341</td> <td>   74.303</td> <td> 0.000</td> <td> 1182.126  1246.182</td>\n",
        "</tr>\n",
        "<tr>\n",
        "  <th>x1</th>    <td>    0.3550</td> <td>    0.030</td> <td>   11.984</td> <td> 0.000</td> <td>    0.297     0.413</td>\n",
        "</tr>\n",
        "</table>\n",
        "<table class=\"simpletable\">\n",
        "<tr>\n",
        "  <th>Omnibus:</th>       <td>86397.827</td> <th>  Durbin-Watson:     </th>   <td>   1.959</td>   \n",
        "</tr>\n",
        "<tr>\n",
        "  <th>Prob(Omnibus):</th>  <td> 0.000</td>   <th>  Jarque-Bera (JB):  </th> <td>892466024.701</td>\n",
        "</tr>\n",
        "<tr>\n",
        "  <th>Skew:</th>           <td>11.848</td>   <th>  Prob(JB):          </th>   <td>    0.00</td>   \n",
        "</tr>\n",
        "<tr>\n",
        "  <th>Kurtosis:</th>       <td>665.370</td>  <th>  Cond. No.          </th>   <td>1.72e+03</td>   \n",
        "</tr>\n",
        "</table>"
       ],
       "metadata": {},
       "output_type": "pyout",
       "prompt_number": 226,
       "text": [
        "<class 'statsmodels.iolib.summary.Summary'>\n",
        "\"\"\"\n",
        "                            OLS Regression Results                            \n",
        "==============================================================================\n",
        "Dep. Variable:                      y   R-squared:                       0.003\n",
        "Model:                            OLS   Adj. R-squared:                  0.003\n",
        "Method:                 Least Squares   F-statistic:                     143.6\n",
        "Date:                Sun, 26 Oct 2014   Prob (F-statistic):           4.82e-33\n",
        "Time:                        20:51:13   Log-Likelihood:            -4.1299e+05\n",
        "No. Observations:               48758   AIC:                         8.260e+05\n",
        "Df Residuals:                   48756   BIC:                         8.260e+05\n",
        "Df Model:                           1                                         \n",
        "==============================================================================\n",
        "                 coef    std err          t      P>|t|      [95.0% Conf. Int.]\n",
        "------------------------------------------------------------------------------\n",
        "const       1214.1542     16.341     74.303      0.000      1182.126  1246.182\n",
        "x1             0.3550      0.030     11.984      0.000         0.297     0.413\n",
        "==============================================================================\n",
        "Omnibus:                    86397.827   Durbin-Watson:                   1.959\n",
        "Prob(Omnibus):                  0.000   Jarque-Bera (JB):        892466024.701\n",
        "Skew:                          11.848   Prob(JB):                         0.00\n",
        "Kurtosis:                     665.370   Cond. No.                     1.72e+03\n",
        "==============================================================================\n",
        "\n",
        "Warnings:\n",
        "[1] The condition number is large, 1.72e+03. This might indicate that there are\n",
        "strong multicollinearity or other numerical problems.\n",
        "\"\"\""
       ]
      }
     ],
     "prompt_number": 226
    },
    {
     "cell_type": "code",
     "collapsed": false,
     "input": [
      "#all three continuous variables\n",
      "x = sm.add_constant(X.values, prepend=True) #add on ones for intercept determination\n",
      "\n",
      "results = sm.OLS(y, x).fit()\n",
      "r2 = results.rsquared\n",
      "results.summary()"
     ],
     "language": "python",
     "metadata": {},
     "outputs": [
      {
       "html": [
        "<table class=\"simpletable\">\n",
        "<caption>OLS Regression Results</caption>\n",
        "<tr>\n",
        "  <th>Dep. Variable:</th>            <td>y</td>        <th>  R-squared:         </th>  <td>   0.357</td>  \n",
        "</tr>\n",
        "<tr>\n",
        "  <th>Model:</th>                   <td>OLS</td>       <th>  Adj. R-squared:    </th>  <td>   0.357</td>  \n",
        "</tr>\n",
        "<tr>\n",
        "  <th>Method:</th>             <td>Least Squares</td>  <th>  F-statistic:       </th>  <td>   6767.</td>  \n",
        "</tr>\n",
        "<tr>\n",
        "  <th>Date:</th>             <td>Sun, 26 Oct 2014</td> <th>  Prob (F-statistic):</th>   <td>  0.00</td>   \n",
        "</tr>\n",
        "<tr>\n",
        "  <th>Time:</th>                 <td>20:51:28</td>     <th>  Log-Likelihood:    </th> <td>-4.0230e+05</td>\n",
        "</tr>\n",
        "<tr>\n",
        "  <th>No. Observations:</th>      <td> 48758</td>      <th>  AIC:               </th>  <td>8.046e+05</td> \n",
        "</tr>\n",
        "<tr>\n",
        "  <th>Df Residuals:</th>          <td> 48753</td>      <th>  BIC:               </th>  <td>8.046e+05</td> \n",
        "</tr>\n",
        "<tr>\n",
        "  <th>Df Model:</th>              <td>     4</td>      <th>                     </th>      <td> </td>     \n",
        "</tr>\n",
        "</table>\n",
        "<table class=\"simpletable\">\n",
        "<tr>\n",
        "    <td></td>       <th>coef</th>     <th>std err</th>      <th>t</th>      <th>P>|t|</th> <th>[95.0% Conf. Int.]</th> \n",
        "</tr>\n",
        "<tr>\n",
        "  <th>const</th> <td>  124.1859</td> <td>   17.229</td> <td>    7.208</td> <td> 0.000</td> <td>   90.418   157.954</td>\n",
        "</tr>\n",
        "<tr>\n",
        "  <th>x1</th>    <td>    0.4301</td> <td>    0.025</td> <td>   17.213</td> <td> 0.000</td> <td>    0.381     0.479</td>\n",
        "</tr>\n",
        "<tr>\n",
        "  <th>x2</th>    <td>   63.1162</td> <td>    0.387</td> <td>  163.216</td> <td> 0.000</td> <td>   62.358    63.874</td>\n",
        "</tr>\n",
        "<tr>\n",
        "  <th>x3</th>    <td>   -0.8447</td> <td>    0.098</td> <td>   -8.610</td> <td> 0.000</td> <td>   -1.037    -0.652</td>\n",
        "</tr>\n",
        "<tr>\n",
        "  <th>x4</th>    <td>    0.2193</td> <td>    0.032</td> <td>    6.753</td> <td> 0.000</td> <td>    0.156     0.283</td>\n",
        "</tr>\n",
        "</table>\n",
        "<table class=\"simpletable\">\n",
        "<tr>\n",
        "  <th>Omnibus:</th>       <td>111013.205</td> <th>  Durbin-Watson:     </th>    <td>   1.984</td>   \n",
        "</tr>\n",
        "<tr>\n",
        "  <th>Prob(Omnibus):</th>   <td> 0.000</td>   <th>  Jarque-Bera (JB):  </th> <td>4810096610.399</td>\n",
        "</tr>\n",
        "<tr>\n",
        "  <th>Skew:</th>            <td>21.088</td>   <th>  Prob(JB):          </th>    <td>    0.00</td>   \n",
        "</tr>\n",
        "<tr>\n",
        "  <th>Kurtosis:</th>       <td>1541.142</td>  <th>  Cond. No.          </th>    <td>2.46e+03</td>   \n",
        "</tr>\n",
        "</table>"
       ],
       "metadata": {},
       "output_type": "pyout",
       "prompt_number": 227,
       "text": [
        "<class 'statsmodels.iolib.summary.Summary'>\n",
        "\"\"\"\n",
        "                            OLS Regression Results                            \n",
        "==============================================================================\n",
        "Dep. Variable:                      y   R-squared:                       0.357\n",
        "Model:                            OLS   Adj. R-squared:                  0.357\n",
        "Method:                 Least Squares   F-statistic:                     6767.\n",
        "Date:                Sun, 26 Oct 2014   Prob (F-statistic):               0.00\n",
        "Time:                        20:51:28   Log-Likelihood:            -4.0230e+05\n",
        "No. Observations:               48758   AIC:                         8.046e+05\n",
        "Df Residuals:                   48753   BIC:                         8.046e+05\n",
        "Df Model:                           4                                         \n",
        "==============================================================================\n",
        "                 coef    std err          t      P>|t|      [95.0% Conf. Int.]\n",
        "------------------------------------------------------------------------------\n",
        "const        124.1859     17.229      7.208      0.000        90.418   157.954\n",
        "x1             0.4301      0.025     17.213      0.000         0.381     0.479\n",
        "x2            63.1162      0.387    163.216      0.000        62.358    63.874\n",
        "x3            -0.8447      0.098     -8.610      0.000        -1.037    -0.652\n",
        "x4             0.2193      0.032      6.753      0.000         0.156     0.283\n",
        "==============================================================================\n",
        "Omnibus:                   111013.205   Durbin-Watson:                   1.984\n",
        "Prob(Omnibus):                  0.000   Jarque-Bera (JB):       4810096610.399\n",
        "Skew:                          21.088   Prob(JB):                         0.00\n",
        "Kurtosis:                    1541.142   Cond. No.                     2.46e+03\n",
        "==============================================================================\n",
        "\n",
        "Warnings:\n",
        "[1] The condition number is large, 2.46e+03. This might indicate that there are\n",
        "strong multicollinearity or other numerical problems.\n",
        "\"\"\""
       ]
      }
     ],
     "prompt_number": 227
    },
    {
     "cell_type": "markdown",
     "metadata": {},
     "source": [
      "The addition of account lifespan, previous total logins and previous class logins provide almost no improvement to the model when compared to using problems completed alone (r-squared increases by 0.005 over only problems completed with the addition of all of these dimensions), so we will leave them out of our model."
     ]
    }
   ],
   "metadata": {}
  }
 ]
}