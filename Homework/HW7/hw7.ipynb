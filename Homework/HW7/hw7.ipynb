{
 "metadata": {
  "name": "",
  "signature": "sha256:e523f014a295280cc80f440f75ebda9b9552d17c8cc47a766b05f33003f48f55"
 },
 "nbformat": 3,
 "nbformat_minor": 0,
 "worksheets": [
  {
   "cells": [
    {
     "cell_type": "markdown",
     "metadata": {},
     "source": [
      "## HW 7"
     ]
    },
    {
     "cell_type": "markdown",
     "metadata": {},
     "source": [
      "Import the data and divide into features and target"
     ]
    },
    {
     "cell_type": "code",
     "collapsed": false,
     "input": [
      "import pandas as pd"
     ],
     "language": "python",
     "metadata": {},
     "outputs": [],
     "prompt_number": 2
    },
    {
     "cell_type": "code",
     "collapsed": false,
     "input": [
      "wine_data_url = 'https://archive.ics.uci.edu/ml/machine-learning-databases/wine/wine.data'\n",
      "wine_data = pd.read_csv(wine_data_url, header = None)"
     ],
     "language": "python",
     "metadata": {},
     "outputs": [],
     "prompt_number": 47
    },
    {
     "cell_type": "code",
     "collapsed": false,
     "input": [
      "wine_data.head()"
     ],
     "language": "python",
     "metadata": {},
     "outputs": [
      {
       "html": [
        "<div style=\"max-height:1000px;max-width:1500px;overflow:auto;\">\n",
        "<table border=\"1\" class=\"dataframe\">\n",
        "  <thead>\n",
        "    <tr style=\"text-align: right;\">\n",
        "      <th></th>\n",
        "      <th>0</th>\n",
        "      <th>1</th>\n",
        "      <th>2</th>\n",
        "      <th>3</th>\n",
        "      <th>4</th>\n",
        "      <th>5</th>\n",
        "      <th>6</th>\n",
        "      <th>7</th>\n",
        "      <th>8</th>\n",
        "      <th>9</th>\n",
        "      <th>10</th>\n",
        "      <th>11</th>\n",
        "      <th>12</th>\n",
        "      <th>13</th>\n",
        "    </tr>\n",
        "  </thead>\n",
        "  <tbody>\n",
        "    <tr>\n",
        "      <th>0</th>\n",
        "      <td> 1</td>\n",
        "      <td> 14.23</td>\n",
        "      <td> 1.71</td>\n",
        "      <td> 2.43</td>\n",
        "      <td> 15.6</td>\n",
        "      <td> 127</td>\n",
        "      <td> 2.80</td>\n",
        "      <td> 3.06</td>\n",
        "      <td> 0.28</td>\n",
        "      <td> 2.29</td>\n",
        "      <td> 5.64</td>\n",
        "      <td> 1.04</td>\n",
        "      <td> 3.92</td>\n",
        "      <td> 1065</td>\n",
        "    </tr>\n",
        "    <tr>\n",
        "      <th>1</th>\n",
        "      <td> 1</td>\n",
        "      <td> 13.20</td>\n",
        "      <td> 1.78</td>\n",
        "      <td> 2.14</td>\n",
        "      <td> 11.2</td>\n",
        "      <td> 100</td>\n",
        "      <td> 2.65</td>\n",
        "      <td> 2.76</td>\n",
        "      <td> 0.26</td>\n",
        "      <td> 1.28</td>\n",
        "      <td> 4.38</td>\n",
        "      <td> 1.05</td>\n",
        "      <td> 3.40</td>\n",
        "      <td> 1050</td>\n",
        "    </tr>\n",
        "    <tr>\n",
        "      <th>2</th>\n",
        "      <td> 1</td>\n",
        "      <td> 13.16</td>\n",
        "      <td> 2.36</td>\n",
        "      <td> 2.67</td>\n",
        "      <td> 18.6</td>\n",
        "      <td> 101</td>\n",
        "      <td> 2.80</td>\n",
        "      <td> 3.24</td>\n",
        "      <td> 0.30</td>\n",
        "      <td> 2.81</td>\n",
        "      <td> 5.68</td>\n",
        "      <td> 1.03</td>\n",
        "      <td> 3.17</td>\n",
        "      <td> 1185</td>\n",
        "    </tr>\n",
        "    <tr>\n",
        "      <th>3</th>\n",
        "      <td> 1</td>\n",
        "      <td> 14.37</td>\n",
        "      <td> 1.95</td>\n",
        "      <td> 2.50</td>\n",
        "      <td> 16.8</td>\n",
        "      <td> 113</td>\n",
        "      <td> 3.85</td>\n",
        "      <td> 3.49</td>\n",
        "      <td> 0.24</td>\n",
        "      <td> 2.18</td>\n",
        "      <td> 7.80</td>\n",
        "      <td> 0.86</td>\n",
        "      <td> 3.45</td>\n",
        "      <td> 1480</td>\n",
        "    </tr>\n",
        "    <tr>\n",
        "      <th>4</th>\n",
        "      <td> 1</td>\n",
        "      <td> 13.24</td>\n",
        "      <td> 2.59</td>\n",
        "      <td> 2.87</td>\n",
        "      <td> 21.0</td>\n",
        "      <td> 118</td>\n",
        "      <td> 2.80</td>\n",
        "      <td> 2.69</td>\n",
        "      <td> 0.39</td>\n",
        "      <td> 1.82</td>\n",
        "      <td> 4.32</td>\n",
        "      <td> 1.04</td>\n",
        "      <td> 2.93</td>\n",
        "      <td>  735</td>\n",
        "    </tr>\n",
        "  </tbody>\n",
        "</table>\n",
        "</div>"
       ],
       "metadata": {},
       "output_type": "pyout",
       "prompt_number": 48,
       "text": [
        "   0      1     2     3     4    5     6     7     8     9     10    11    12  \\\n",
        "0   1  14.23  1.71  2.43  15.6  127  2.80  3.06  0.28  2.29  5.64  1.04  3.92   \n",
        "1   1  13.20  1.78  2.14  11.2  100  2.65  2.76  0.26  1.28  4.38  1.05  3.40   \n",
        "2   1  13.16  2.36  2.67  18.6  101  2.80  3.24  0.30  2.81  5.68  1.03  3.17   \n",
        "3   1  14.37  1.95  2.50  16.8  113  3.85  3.49  0.24  2.18  7.80  0.86  3.45   \n",
        "4   1  13.24  2.59  2.87  21.0  118  2.80  2.69  0.39  1.82  4.32  1.04  2.93   \n",
        "\n",
        "     13  \n",
        "0  1065  \n",
        "1  1050  \n",
        "2  1185  \n",
        "3  1480  \n",
        "4   735  "
       ]
      }
     ],
     "prompt_number": 48
    },
    {
     "cell_type": "code",
     "collapsed": false,
     "input": [
      "X = wine_data.ix[:,1:13].values\n",
      "y = wine_data.ix[:,0].values"
     ],
     "language": "python",
     "metadata": {},
     "outputs": [],
     "prompt_number": 212
    },
    {
     "cell_type": "markdown",
     "metadata": {},
     "source": [
      "###Classify raw data with SVM and cross-validate"
     ]
    },
    {
     "cell_type": "code",
     "collapsed": false,
     "input": [
      "from sklearn import svm\n",
      "model = svm.SVC(kernel='linear')\n",
      "model.fit(X,y)\n",
      "model.score(X,y)"
     ],
     "language": "python",
     "metadata": {},
     "outputs": [
      {
       "metadata": {},
       "output_type": "pyout",
       "prompt_number": 253,
       "text": [
        "0.9943820224719101"
       ]
      }
     ],
     "prompt_number": 253
    },
    {
     "cell_type": "code",
     "collapsed": false,
     "input": [
      "from sklearn.cross_validation import KFold\n",
      "def crossValidate(X, y, classifier, k_folds) :\n",
      "    '''\n",
      "    only works for the form classifier.fit()\n",
      "    '''\n",
      "    # get train and test indexes\n",
      "    indicies = KFold(len(X), n_folds=k_folds, shuffle = True, random_state=0)\n",
      "    \n",
      "    #get scores\n",
      "    scores = 0\n",
      "    for train, test in indicies:\n",
      "        model = classifier.fit(X[train],y[train])\n",
      "        score = model.score(X[test], y[test])\n",
      "        scores+=score\n",
      "\n",
      "    # return the average accuracy\n",
      "    return scores/float(k_folds)"
     ],
     "language": "python",
     "metadata": {},
     "outputs": [],
     "prompt_number": 254
    },
    {
     "cell_type": "code",
     "collapsed": false,
     "input": [
      "crossValidate(X,y, model, 10)"
     ],
     "language": "python",
     "metadata": {},
     "outputs": [
      {
       "metadata": {},
       "output_type": "pyout",
       "prompt_number": 259,
       "text": [
        "0.95490196078431366"
       ]
      }
     ],
     "prompt_number": 259
    },
    {
     "cell_type": "markdown",
     "metadata": {},
     "source": [
      "###Normalize raw data than classify with linear svm and cross validate"
     ]
    },
    {
     "cell_type": "code",
     "collapsed": false,
     "input": [
      "from sklearn import preprocessing\n",
      "X_scaled = preprocessing.scale(X)"
     ],
     "language": "python",
     "metadata": {},
     "outputs": [],
     "prompt_number": 256
    },
    {
     "cell_type": "code",
     "collapsed": false,
     "input": [
      "model.fit(X,y)\n",
      "model.score(X,y)"
     ],
     "language": "python",
     "metadata": {},
     "outputs": [
      {
       "metadata": {},
       "output_type": "pyout",
       "prompt_number": 257,
       "text": [
        "0.9943820224719101"
       ]
      }
     ],
     "prompt_number": 257
    },
    {
     "cell_type": "code",
     "collapsed": false,
     "input": [
      "crossValidate(X_scaled,y, model, 10)"
     ],
     "language": "python",
     "metadata": {},
     "outputs": [
      {
       "metadata": {},
       "output_type": "pyout",
       "prompt_number": 260,
       "text": [
        "0.95555555555555571"
       ]
      }
     ],
     "prompt_number": 260
    },
    {
     "cell_type": "markdown",
     "metadata": {},
     "source": [
      "Scaling and centering the data improves the model fit."
     ]
    },
    {
     "cell_type": "markdown",
     "metadata": {},
     "source": [
      "###Impliment a pipeline with a preprocessing step and a classification step"
     ]
    },
    {
     "cell_type": "code",
     "collapsed": false,
     "input": [
      "from sklearn.pipeline import Pipeline\n",
      "from sklearn.decomposition import PCA\n",
      "estimators = [('preprocess', preprocessing.StandardScaler()), ('classification', svm.SVC(kernel='linear'))]\n",
      "pipe = Pipeline(estimators)"
     ],
     "language": "python",
     "metadata": {},
     "outputs": [],
     "prompt_number": 267
    },
    {
     "cell_type": "code",
     "collapsed": false,
     "input": [
      "print pipe.named_steps['preprocess']\n",
      "print pipe.named_steps['classification']"
     ],
     "language": "python",
     "metadata": {},
     "outputs": [
      {
       "output_type": "stream",
       "stream": "stdout",
       "text": [
        "StandardScaler(copy=True, with_mean=True, with_std=True)\n",
        "SVC(C=1.0, cache_size=200, class_weight=None, coef0=0.0, degree=3, gamma=0.0,\n",
        "  kernel='linear', max_iter=-1, probability=False, random_state=None,\n",
        "  shrinking=True, tol=0.001, verbose=False)\n"
       ]
      }
     ],
     "prompt_number": 268
    },
    {
     "cell_type": "code",
     "collapsed": false,
     "input": [
      "pipe.get_params()"
     ],
     "language": "python",
     "metadata": {},
     "outputs": [
      {
       "metadata": {},
       "output_type": "pyout",
       "prompt_number": 243,
       "text": [
        "{'preprocess': StandardScaler(copy=True, with_mean=True, with_std=True),\n",
        " 'preprocess__copy': True,\n",
        " 'preprocess__with_mean': True,\n",
        " 'preprocess__with_std': True,\n",
        " 'svm': SVC(C=1.0, cache_size=200, class_weight=None, coef0=0.0, degree=3, gamma=0.0,\n",
        "   kernel='rbf', max_iter=-1, probability=False, random_state=None,\n",
        "   shrinking=True, tol=0.001, verbose=False),\n",
        " 'svm__C': 1.0,\n",
        " 'svm__cache_size': 200,\n",
        " 'svm__class_weight': None,\n",
        " 'svm__coef0': 0.0,\n",
        " 'svm__degree': 3,\n",
        " 'svm__gamma': 0.0,\n",
        " 'svm__kernel': 'rbf',\n",
        " 'svm__max_iter': -1,\n",
        " 'svm__probability': False,\n",
        " 'svm__random_state': None,\n",
        " 'svm__shrinking': True,\n",
        " 'svm__tol': 0.001,\n",
        " 'svm__verbose': False}"
       ]
      }
     ],
     "prompt_number": 243
    },
    {
     "cell_type": "code",
     "collapsed": false,
     "input": [
      "pipe.fit(X,y)"
     ],
     "language": "python",
     "metadata": {},
     "outputs": [
      {
       "metadata": {},
       "output_type": "pyout",
       "prompt_number": 271,
       "text": [
        "Pipeline(steps=[('preprocess', StandardScaler(copy=True, with_mean=True, with_std=True)), ('classification', SVC(C=1.0, cache_size=200, class_weight=None, coef0=0.0, degree=3, gamma=0.0,\n",
        "  kernel='linear', max_iter=-1, probability=False, random_state=None,\n",
        "  shrinking=True, tol=0.001, verbose=False))])"
       ]
      }
     ],
     "prompt_number": 271
    },
    {
     "cell_type": "code",
     "collapsed": false,
     "input": [
      "crossValidate(X,y,pipe,10)"
     ],
     "language": "python",
     "metadata": {},
     "outputs": [
      {
       "metadata": {},
       "output_type": "pyout",
       "prompt_number": 272,
       "text": [
        "0.95555555555555571"
       ]
      }
     ],
     "prompt_number": 272
    },
    {
     "cell_type": "markdown",
     "metadata": {},
     "source": [
      "###Use gridsearch to explore a range of C and gamma values, as well as kernel type"
     ]
    },
    {
     "cell_type": "code",
     "collapsed": false,
     "input": [
      "from sklearn.grid_search import GridSearchCV\n",
      "params = dict(svm__kernel=['linear', 'poly', 'rbf', 'sigmoid'],\n",
      "              svm__C=[0.1, 10, 100],\n",
      "              svm__gamma = [0,1])\n",
      "grid_search = GridSearchCV(model, param_grid=params)"
     ],
     "language": "python",
     "metadata": {},
     "outputs": [],
     "prompt_number": 247
    },
    {
     "cell_type": "code",
     "collapsed": false,
     "input": [
      "from sklearn.grid_search import GridSearchCV\n",
      "params = [{'C': [0.1, 10., 100.], \n",
      "           'kernel': ['linear', 'poly', 'rbf', 'sigmoid'],\n",
      "           'gamma': [0,1,10,100]}]\n",
      "grid_search = GridSearchCV(model, param_grid=params, cv=10)"
     ],
     "language": "python",
     "metadata": {},
     "outputs": [],
     "prompt_number": 281
    },
    {
     "cell_type": "code",
     "collapsed": false,
     "input": [
      "grid_search.fit(X,y)"
     ],
     "language": "python",
     "metadata": {},
     "outputs": [
      {
       "metadata": {},
       "output_type": "pyout",
       "prompt_number": 282,
       "text": [
        "GridSearchCV(cv=10,\n",
        "       estimator=SVC(C=1.0, cache_size=200, class_weight=None, coef0=0.0, degree=3, gamma=0.0,\n",
        "  kernel='linear', max_iter=-1, probability=False, random_state=None,\n",
        "  shrinking=True, tol=0.001, verbose=False),\n",
        "       fit_params={}, iid=True, loss_func=None, n_jobs=1,\n",
        "       param_grid=[{'kernel': ['linear', 'poly', 'rbf', 'sigmoid'], 'C': [0.1, 10.0, 100.0], 'gamma': [0, 1, 10, 100]}],\n",
        "       pre_dispatch='2*n_jobs', refit=True, score_func=None, scoring=None,\n",
        "       verbose=0)"
       ]
      }
     ],
     "prompt_number": 282
    },
    {
     "cell_type": "code",
     "collapsed": false,
     "input": [
      "grid_search.grid_scores_"
     ],
     "language": "python",
     "metadata": {},
     "outputs": [
      {
       "metadata": {},
       "output_type": "pyout",
       "prompt_number": 283,
       "text": [
        "[mean: 0.97191, std: 0.03598, params: {'kernel': 'linear', 'C': 0.1, 'gamma': 0},\n",
        " mean: 0.96067, std: 0.04329, params: {'kernel': 'poly', 'C': 0.1, 'gamma': 0},\n",
        " mean: 0.39888, std: 0.01687, params: {'kernel': 'rbf', 'C': 0.1, 'gamma': 0},\n",
        " mean: 0.39888, std: 0.01687, params: {'kernel': 'sigmoid', 'C': 0.1, 'gamma': 0},\n",
        " mean: 0.97191, std: 0.03598, params: {'kernel': 'linear', 'C': 0.1, 'gamma': 1},\n",
        " mean: 0.96067, std: 0.04329, params: {'kernel': 'poly', 'C': 0.1, 'gamma': 1},\n",
        " mean: 0.39888, std: 0.01687, params: {'kernel': 'rbf', 'C': 0.1, 'gamma': 1},\n",
        " mean: 0.39888, std: 0.01687, params: {'kernel': 'sigmoid', 'C': 0.1, 'gamma': 1},\n",
        " mean: 0.97191, std: 0.03598, params: {'kernel': 'linear', 'C': 0.1, 'gamma': 10},\n",
        " mean: 0.96067, std: 0.04329, params: {'kernel': 'poly', 'C': 0.1, 'gamma': 10},\n",
        " mean: 0.39888, std: 0.01687, params: {'kernel': 'rbf', 'C': 0.1, 'gamma': 10},\n",
        " mean: 0.39888, std: 0.01687, params: {'kernel': 'sigmoid', 'C': 0.1, 'gamma': 10},\n",
        " mean: 0.97191, std: 0.03598, params: {'kernel': 'linear', 'C': 0.1, 'gamma': 100},\n",
        " mean: 0.96067, std: 0.04329, params: {'kernel': 'poly', 'C': 0.1, 'gamma': 100},\n",
        " mean: 0.39888, std: 0.01687, params: {'kernel': 'rbf', 'C': 0.1, 'gamma': 100},\n",
        " mean: 0.39888, std: 0.01687, params: {'kernel': 'sigmoid', 'C': 0.1, 'gamma': 100},\n",
        " mean: 0.96629, std: 0.04344, params: {'kernel': 'linear', 'C': 10.0, 'gamma': 0},\n",
        " mean: 0.96067, std: 0.04329, params: {'kernel': 'poly', 'C': 10.0, 'gamma': 0},\n",
        " mean: 0.47191, std: 0.04020, params: {'kernel': 'rbf', 'C': 10.0, 'gamma': 0},\n",
        " mean: 0.39888, std: 0.01687, params: {'kernel': 'sigmoid', 'C': 10.0, 'gamma': 0},\n",
        " mean: 0.96629, std: 0.04344, params: {'kernel': 'linear', 'C': 10.0, 'gamma': 1},\n",
        " mean: 0.96067, std: 0.04329, params: {'kernel': 'poly', 'C': 10.0, 'gamma': 1},\n",
        " mean: 0.39888, std: 0.01687, params: {'kernel': 'rbf', 'C': 10.0, 'gamma': 1},\n",
        " mean: 0.39888, std: 0.01687, params: {'kernel': 'sigmoid', 'C': 10.0, 'gamma': 1},\n",
        " mean: 0.96629, std: 0.04344, params: {'kernel': 'linear', 'C': 10.0, 'gamma': 10},\n",
        " mean: 0.96067, std: 0.04329, params: {'kernel': 'poly', 'C': 10.0, 'gamma': 10},\n",
        " mean: 0.39888, std: 0.01687, params: {'kernel': 'rbf', 'C': 10.0, 'gamma': 10},\n",
        " mean: 0.39888, std: 0.01687, params: {'kernel': 'sigmoid', 'C': 10.0, 'gamma': 10},\n",
        " mean: 0.96629, std: 0.04344, params: {'kernel': 'linear', 'C': 10.0, 'gamma': 100},\n",
        " mean: 0.96067, std: 0.04329, params: {'kernel': 'poly', 'C': 10.0, 'gamma': 100},\n",
        " mean: 0.39888, std: 0.01687, params: {'kernel': 'rbf', 'C': 10.0, 'gamma': 100},\n",
        " mean: 0.39888, std: 0.01687, params: {'kernel': 'sigmoid', 'C': 10.0, 'gamma': 100},\n",
        " mean: 0.96629, std: 0.04344, params: {'kernel': 'linear', 'C': 100.0, 'gamma': 0},\n",
        " mean: 0.96067, std: 0.04329, params: {'kernel': 'poly', 'C': 100.0, 'gamma': 0},\n",
        " mean: 0.47191, std: 0.04020, params: {'kernel': 'rbf', 'C': 100.0, 'gamma': 0},\n",
        " mean: 0.39888, std: 0.01687, params: {'kernel': 'sigmoid', 'C': 100.0, 'gamma': 0},\n",
        " mean: 0.96629, std: 0.04344, params: {'kernel': 'linear', 'C': 100.0, 'gamma': 1},\n",
        " mean: 0.96067, std: 0.04329, params: {'kernel': 'poly', 'C': 100.0, 'gamma': 1},\n",
        " mean: 0.39888, std: 0.01687, params: {'kernel': 'rbf', 'C': 100.0, 'gamma': 1},\n",
        " mean: 0.39888, std: 0.01687, params: {'kernel': 'sigmoid', 'C': 100.0, 'gamma': 1},\n",
        " mean: 0.96629, std: 0.04344, params: {'kernel': 'linear', 'C': 100.0, 'gamma': 10},\n",
        " mean: 0.96067, std: 0.04329, params: {'kernel': 'poly', 'C': 100.0, 'gamma': 10},\n",
        " mean: 0.39888, std: 0.01687, params: {'kernel': 'rbf', 'C': 100.0, 'gamma': 10},\n",
        " mean: 0.39888, std: 0.01687, params: {'kernel': 'sigmoid', 'C': 100.0, 'gamma': 10},\n",
        " mean: 0.96629, std: 0.04344, params: {'kernel': 'linear', 'C': 100.0, 'gamma': 100},\n",
        " mean: 0.96067, std: 0.04329, params: {'kernel': 'poly', 'C': 100.0, 'gamma': 100},\n",
        " mean: 0.39888, std: 0.01687, params: {'kernel': 'rbf', 'C': 100.0, 'gamma': 100},\n",
        " mean: 0.39888, std: 0.01687, params: {'kernel': 'sigmoid', 'C': 100.0, 'gamma': 100}]"
       ]
      }
     ],
     "prompt_number": 283
    },
    {
     "cell_type": "code",
     "collapsed": false,
     "input": [
      "grid_search.best_params_"
     ],
     "language": "python",
     "metadata": {},
     "outputs": [
      {
       "metadata": {},
       "output_type": "pyout",
       "prompt_number": 284,
       "text": [
        "{'C': 0.1, 'gamma': 0, 'kernel': 'linear'}"
       ]
      }
     ],
     "prompt_number": 284
    },
    {
     "cell_type": "code",
     "collapsed": false,
     "input": [
      "grid_search.best_score_"
     ],
     "language": "python",
     "metadata": {},
     "outputs": [
      {
       "metadata": {},
       "output_type": "pyout",
       "prompt_number": 285,
       "text": [
        "0.9719101123595506"
       ]
      }
     ],
     "prompt_number": 285
    },
    {
     "cell_type": "markdown",
     "metadata": {},
     "source": [
      "The best estimator was a linear svc with a C value of 0.1 and a gamma of 0, scoring 97% with a 10 fold cross validation."
     ]
    }
   ],
   "metadata": {}
  }
 ]
}